{
  "nbformat": 4,
  "nbformat_minor": 0,
  "metadata": {
    "colab": {
      "name": "Harleen_Computer Vision _ Lab Assignment 4.ipynb",
      "provenance": []
    },
    "kernelspec": {
      "name": "python3",
      "display_name": "Python 3"
    },
    "language_info": {
      "name": "python"
    }
  },
  "cells": [
    {
      "cell_type": "markdown",
      "source": [
        "# Lab Assignment 4\n",
        "\n",
        "**Computer Vision** - Term 5, 2022\n",
        "\n",
        "Instructor: Dr. Saumya Jetly <br>\n",
        "TA: Ribhu Lahiri\n",
        "\n",
        "*Deadline: Wednesday, 23 March 2022 11:59 pm* \n",
        "\n",
        "Submission form link: https://forms.gle/B9m2khtKNStHLCLL8\n",
        "\n",
        "Total points: 5\n"
      ],
      "metadata": {
        "id": "wMpd_g_2supN"
      }
    },
    {
      "cell_type": "code",
      "execution_count": null,
      "metadata": {
        "id": "fJNYVdxmsm8F"
      },
      "outputs": [],
      "source": [
        "# Imports\n",
        "import math\n",
        "import torch\n",
        "import numpy as np\n",
        "import matplotlib.pyplot as plt\n",
        "import pandas as pd"
      ]
    },
    {
      "cell_type": "markdown",
      "source": [
        "### Task 1: Creating the single layer perceptron (3 points)\n",
        "\n",
        "In this lab we will focus on the perceptron, and how it can be used to model logic gates. Further, this same idea can be extended further due to perceptrons being a universal function approximator"
      ],
      "metadata": {
        "id": "ZxYOhSDgTJ5z"
      }
    },
    {
      "cell_type": "markdown",
      "source": [
        "**Implement the `sigmoid` function** *(1 point)*\n",
        "\n",
        "$𝑆(x) = \\frac{1}{1 + e^{-x}}$\n",
        "\n"
      ],
      "metadata": {
        "id": "fgU5WY3TV-GM"
      }
    },
    {
      "cell_type": "code",
      "source": [
        "def sigmoid(x):\n",
        "  '''\n",
        "    Applies the sigmoid function to the given input\n",
        "\n",
        "    Parameters\n",
        "    ----------\n",
        "    x: torch.Tensor\n",
        "        Input array/tensor\n",
        "\n",
        "    Returns\n",
        "    -------\n",
        "    out: torch.Tensor\n",
        "        Tensor after applying sigmoid function to it\n",
        "  '''\n",
        "  out=1.0/(1+torch.exp(-x))\n",
        "  return out"
      ],
      "metadata": {
        "id": "44NvwA86iYS5"
      },
      "execution_count": null,
      "outputs": []
    },
    {
      "cell_type": "markdown",
      "source": [
        "**Implement the `perceptron` function** *(1 point)*\n",
        "\n",
        "$y' = x \\bullet W^t + b$"
      ],
      "metadata": {
        "id": "J-Tunf1PWDRG"
      }
    },
    {
      "cell_type": "code",
      "source": [
        "def perceptron(inputs, weights, bias):\n",
        "  '''\n",
        "    Defines the single layer perceptron model\n",
        "\n",
        "  '''\n",
        "  linear = torch.add(inputs@ torch.transpose(weights,1,0),  bias)\n",
        "  return  sigmoid(linear) "
      ],
      "metadata": {
        "id": "8wzx5Zt-haY8"
      },
      "execution_count": null,
      "outputs": []
    },
    {
      "cell_type": "markdown",
      "source": [
        "**Implement the `binary_cross_entropy` function** *(1 point)*\n",
        "\n",
        "$\\mathrm{Loss} = - \\frac{1}{\\mathrm{N}} \\sum_{i=1}^{\\mathrm{N}} y_i \\cdot \\mathrm{log}\\; {\\hat{y}}_i + (1-y_i) \\cdot \\mathrm{log}\\; (1-{\\hat{y}}_i)$"
      ],
      "metadata": {
        "id": "STk3yf2tWFM3"
      }
    },
    {
      "cell_type": "code",
      "source": [
        "import math"
      ],
      "metadata": {
        "id": "h_iG0Dvs0yVe"
      },
      "execution_count": null,
      "outputs": []
    },
    {
      "cell_type": "code",
      "source": [
        "def binary_cross_entropy(preds, targets):\n",
        "  '''\n",
        "    Applies binary cross entropy given predictions and ground truth\n",
        "\n",
        "  '''\n",
        "  #CE_Loss = - torch.sum(targets*torch.log(preds) + (1-targets)*torch.log(1-preds)).mean()\n",
        "  return -1*(torch.sum((1-targets) * torch.log(1- preds) + (targets * torch.log(preds) )).mean())\n",
        "   \n",
        "  #return CE_Loss"
      ],
      "metadata": {
        "id": "lAg5YyfPiL9i"
      },
      "execution_count": null,
      "outputs": []
    },
    {
      "cell_type": "markdown",
      "source": [
        "## AND Gate"
      ],
      "metadata": {
        "id": "PitABqssebNz"
      }
    },
    {
      "cell_type": "code",
      "source": [
        "and_data = np.array([[0,0,0],\n",
        "                     [0,1,0],\n",
        "                     [1,0,0],\n",
        "                     [1,1,1]])\n",
        "\n",
        "# Creating a PyTorch tensor\n",
        "and_data = torch.Tensor(and_data)"
      ],
      "metadata": {
        "id": "9pVPVp6WeJfu"
      },
      "execution_count": 160,
      "outputs": []
    },
    {
      "cell_type": "code",
      "source": [
        "# Same slicing as np arrays\n",
        "X = and_data[:,:-1]\n",
        "y = and_data[:,-1:]"
      ],
      "metadata": {
        "id": "miB9u_0yfGWf"
      },
      "execution_count": 161,
      "outputs": []
    },
    {
      "cell_type": "code",
      "source": [
        "W = torch.randn((1,2), requires_grad=True)\n",
        "#W = W .detach().numpy()\n",
        "b = torch.randn((1,1), requires_grad=True)\n",
        "#b = b .detach().numpy()\n"
      ],
      "metadata": {
        "id": "zt5YcThwf_3f"
      },
      "execution_count": 162,
      "outputs": []
    },
    {
      "cell_type": "markdown",
      "source": [
        "**Create the training loop** *(1 point)*"
      ],
      "metadata": {
        "id": "thpCI3K1WID_"
      }
    },
    {
      "cell_type": "code",
      "source": [
        "n_epochs = 100\n",
        "lr = 5e-1\n",
        "\n",
        "losses = []\n",
        "\n",
        "for _ in range(n_epochs):\n",
        "  # Define the Training Loop here\n",
        " \n",
        "    # \n",
        "    # Get predictions\n",
        "    \n",
        "    preds=perceptron(X,W,b)\n",
        "    \n",
        "    \n",
        "    # Calculate Loss\n",
        "    loss=binary_cross_entropy(preds, y)\n",
        "    \n",
        "    \n",
        "    \n",
        "\n",
        "\n",
        "\n",
        "\n",
        "\n",
        "\n",
        "\n",
        "\n",
        "\n",
        "\n",
        "\n",
        "\n",
        "\n",
        "\n",
        "\n",
        "\n",
        "    \n",
        "    # Do a backward step (to calculate gradients)\n",
        "    loss.backward()\n",
        "    \n",
        "    losses.append(loss.item())\n",
        "    \n",
        "    \n",
        "    \n",
        "    # Update Weights\n",
        "    with torch.no_grad():\n",
        "      \n",
        "    \n",
        "      W-=W.grad*lr\n",
        "      b-=b.grad*lr\n",
        "      W.grad.zero_()\n",
        "      b.grad.zero_()\n",
        "      \n",
        "      \n",
        "      \n",
        "      \n",
        "      \n",
        "      \n",
        "      \n",
        "      \n",
        "      \n",
        "      \n",
        "      \n",
        "      \n",
        "      \n",
        "      \n",
        "      \n",
        "      \n",
        "      \n",
        "      \n",
        "      \n",
        "      \n",
        "      \n",
        "      \n",
        "      \n",
        "      \n",
        "      \n",
        "      \n",
        "      \n",
        "      \n",
        "      \n",
        "      \n",
        "      \n",
        "      \n",
        "      \n",
        "      \n",
        "      \n",
        "      \n",
        "      \n",
        "      \n",
        "      \n",
        "      \n",
        "      \n",
        "      \n",
        "      \n",
        "      \n",
        "      \n",
        "      \n",
        "      \n",
        "      \n",
        "      \n",
        "      \n",
        "    # Append Loss\n",
        "\n",
        " "
      ],
      "metadata": {
        "id": "Htp_t7erfnY-"
      },
      "execution_count": 163,
      "outputs": []
    },
    {
      "cell_type": "code",
      "source": [
        "plt.plot(losses )"
      ],
      "metadata": {
        "colab": {
          "base_uri": "https://localhost:8080/",
          "height": 282
        },
        "id": "ZhGdWNaNkIJK",
        "outputId": "03d671dd-4f3d-471d-99b7-dd8269317db5"
      },
      "execution_count": 164,
      "outputs": [
        {
          "output_type": "execute_result",
          "data": {
            "text/plain": [
              "[<matplotlib.lines.Line2D at 0x7faebd391090>]"
            ]
          },
          "metadata": {},
          "execution_count": 164
        },
        {
          "output_type": "display_data",
          "data": {
            "text/plain": [
              "<Figure size 432x288 with 1 Axes>"
            ],
            "image/png": "[encoded data removed]"
          },
          "metadata": {
            "needs_background": "light"
          }
        }
      ]
    },
    {
      "cell_type": "code",
      "source": [
        "with torch.no_grad():\n",
        "  print((perceptron(X, W, b) > 0.5).int())"
      ],
      "metadata": {
        "colab": {
          "base_uri": "https://localhost:8080/"
        },
        "id": "_AFaaDwkkbWK",
        "outputId": "485f4206-3669-4b4a-fe49-1ae7379b25e9"
      },
      "execution_count": 165,
      "outputs": [
        {
          "output_type": "stream",
          "name": "stdout",
          "text": [
            "tensor([[0],\n",
            "        [0],\n",
            "        [0],\n",
            "        [1]], dtype=torch.int32)\n"
          ]
        }
      ]
    },
    {
      "cell_type": "markdown",
      "source": [
        "## OR Gate"
      ],
      "metadata": {
        "id": "nxayZJ1UlLhR"
      }
    },
    {
      "cell_type": "code",
      "source": [
        "or_data = np.array([[0,0,0],\n",
        "                     [0,1,1],\n",
        "                     [1,0,1],\n",
        "                     [1,1,1]])\n",
        "\n",
        "# Creating a PyTorch tensor\n",
        "or_data = torch.Tensor(or_data)"
      ],
      "metadata": {
        "id": "O-C34mEjlFmj"
      },
      "execution_count": 166,
      "outputs": []
    },
    {
      "cell_type": "code",
      "source": [
        "# Same slicing as np arrays\n",
        "X = or_data[:,:-1]\n",
        "y = or_data[:,-1:]"
      ],
      "metadata": {
        "id": "vxOYpywhlVMm"
      },
      "execution_count": 167,
      "outputs": []
    },
    {
      "cell_type": "code",
      "source": [
        "W = torch.randn((1,2), requires_grad=True)\n",
        "b = torch.randn((1,1), requires_grad=True)"
      ],
      "metadata": {
        "id": "unqZ4I0vlVPB"
      },
      "execution_count": 168,
      "outputs": []
    },
    {
      "cell_type": "markdown",
      "source": [
        "**Reuse the training loop**"
      ],
      "metadata": {
        "id": "Nh9u6mxAWNhn"
      }
    },
    {
      "cell_type": "code",
      "source": [
        "n_epochs = 100\n",
        "lr = 5e-1\n",
        "losses = []\n",
        "for _ in range(n_epochs):\n",
        "  # Define the Training Loop here\n",
        "  preds=perceptron(X,W,b)\n",
        "    \n",
        "    \n",
        "  # Calculate Loss\n",
        "  loss=binary_cross_entropy(preds, y)\n",
        "  loss.backward()\n",
        "    \n",
        "  losses.append(loss.item())\n",
        "  with torch.no_grad():\n",
        "      \n",
        "    \n",
        "      W-=W.grad*lr\n",
        "      b-=b.grad*lr\n",
        "      W.grad.zero_()\n",
        "      b.grad.zero_()\n",
        "  # \n",
        "  # Get predictions\n",
        "  # Calculate Loss\n",
        "  # Do a backward step (to calculate gradients)\n",
        "  # Update Weights\n",
        "  # Append Loss"
      ],
      "metadata": {
        "id": "L0KkuJdhlVRV"
      },
      "execution_count": 169,
      "outputs": []
    },
    {
      "cell_type": "code",
      "source": [
        "plt.plot(losses)"
      ],
      "metadata": {
        "colab": {
          "base_uri": "https://localhost:8080/",
          "height": 282
        },
        "id": "mNDDOtiblVTt",
        "outputId": "350bca7e-7449-47af-9469-928d0883098f"
      },
      "execution_count": 170,
      "outputs": [
        {
          "output_type": "execute_result",
          "data": {
            "text/plain": [
              "[<matplotlib.lines.Line2D at 0x7faebd3024d0>]"
            ]
          },
          "metadata": {},
          "execution_count": 170
        },
        {
          "output_type": "display_data",
          "data": {
            "text/plain": [
              "<Figure size 432x288 with 1 Axes>"
            ],
            "image/png": "[encoded data removed]"
          },
          "metadata": {
            "needs_background": "light"
          }
        }
      ]
    },
    {
      "cell_type": "code",
      "source": [
        "with torch.no_grad():\n",
        "  print((perceptron(X, W, b) > 0.5).int())"
      ],
      "metadata": {
        "colab": {
          "base_uri": "https://localhost:8080/"
        },
        "id": "X3UCWJUXlVV5",
        "outputId": "26d953f8-992a-4f9f-96bf-dbd37c420d32"
      },
      "execution_count": 171,
      "outputs": [
        {
          "output_type": "stream",
          "name": "stdout",
          "text": [
            "tensor([[0],\n",
            "        [1],\n",
            "        [1],\n",
            "        [1]], dtype=torch.int32)\n"
          ]
        }
      ]
    },
    {
      "cell_type": "markdown",
      "source": [
        "## XOR Gate"
      ],
      "metadata": {
        "id": "wiDm-OVLmPbJ"
      }
    },
    {
      "cell_type": "code",
      "source": [
        "xor_data = np.array([[0,0,0],\n",
        "                     [0,1,1],\n",
        "                     [1,0,1],\n",
        "                     [1,1,0]])\n",
        "\n",
        "# Creating a PyTorch tensor\n",
        "xor_data = torch.Tensor(xor_data)"
      ],
      "metadata": {
        "id": "OKEcg3LhmO96"
      },
      "execution_count": 172,
      "outputs": []
    },
    {
      "cell_type": "code",
      "source": [
        "# Same slicing as np arrays\n",
        "X = xor_data[:,:-1]\n",
        "y = xor_data[:,-1:]"
      ],
      "metadata": {
        "id": "zKIahsfhmdlZ"
      },
      "execution_count": 173,
      "outputs": []
    },
    {
      "cell_type": "code",
      "source": [
        "W = torch.randn((1,2), requires_grad=True)\n",
        "b = torch.randn((1,1), requires_grad=True)"
      ],
      "metadata": {
        "id": "OoSEcw4_mgX_"
      },
      "execution_count": 174,
      "outputs": []
    },
    {
      "cell_type": "markdown",
      "source": [
        "**Reuse the training loop**"
      ],
      "metadata": {
        "id": "pnwosFetWV0g"
      }
    },
    {
      "cell_type": "code",
      "source": [
        "n_epochs = 100\n",
        "lr = 5e-1\n",
        "losses = []\n",
        "for _ in range(n_epochs):\n",
        "  # Define the Training Loop here\n",
        "  # \n",
        "  # Get predictions\n",
        "  preds=perceptron(X,W,b)\n",
        "  loss=binary_cross_entropy(preds, y)\n",
        "  loss.backward()\n",
        "    \n",
        "  losses.append(loss.item())\n",
        "  with torch.no_grad():\n",
        "      \n",
        "    \n",
        "      W-=W.grad*lr\n",
        "      b-=b.grad*lr\n",
        "      W.grad.zero_()\n",
        "      b.grad.zero_()\n",
        "  # Calculate Loss\n",
        "  # Do a backward step (to calculate gradients)\n",
        "  # Update Weights\n",
        "  # Append Loss"
      ],
      "metadata": {
        "id": "wSqYPKw1miXl"
      },
      "execution_count": 175,
      "outputs": []
    },
    {
      "cell_type": "code",
      "source": [
        "plt.plot(losses)"
      ],
      "metadata": {
        "colab": {
          "base_uri": "https://localhost:8080/",
          "height": 282
        },
        "id": "yxOtiWiamnvE",
        "outputId": "78ff17f4-2ba9-4448-aab2-dfa24fb700ee"
      },
      "execution_count": 176,
      "outputs": [
        {
          "output_type": "execute_result",
          "data": {
            "text/plain": [
              "[<matplotlib.lines.Line2D at 0x7faebd273090>]"
            ]
          },
          "metadata": {},
          "execution_count": 176
        },
        {
          "output_type": "display_data",
          "data": {
            "text/plain": [
              "<Figure size 432x288 with 1 Axes>"
            ],
            "image/png": "[encoded data removed]"
          },
          "metadata": {
            "needs_background": "light"
          }
        }
      ]
    },
    {
      "cell_type": "code",
      "source": [
        "with torch.no_grad():\n",
        "  print((perceptron(X, W, b) > 0.5).int())"
      ],
      "metadata": {
        "colab": {
          "base_uri": "https://localhost:8080/"
        },
        "id": "cG7JSCcKmpHq",
        "outputId": "6c743e48-14db-46c2-977d-5e95dbf2e03b"
      },
      "execution_count": 177,
      "outputs": [
        {
          "output_type": "stream",
          "name": "stdout",
          "text": [
            "tensor([[0],\n",
            "        [0],\n",
            "        [0],\n",
            "        [1]], dtype=torch.int32)\n"
          ]
        }
      ]
    },
    {
      "cell_type": "markdown",
      "source": [
        "## Need for MLP\n",
        "\n",
        "As seen above, we are unable to model the XOR gate using a single layer perceptron, so we need to add a hidden layer."
      ],
      "metadata": {
        "id": "likiWP34nI7w"
      }
    },
    {
      "cell_type": "code",
      "source": [
        "W1 = torch.randn((10,2), requires_grad=True)\n",
        "W2 = torch.randn((1,10), requires_grad=True)\n",
        "b1 = torch.randn((1,10), requires_grad=True)\n",
        "b2 = torch.randn((1,1), requires_grad=True)"
      ],
      "metadata": {
        "id": "5EAfHk5EmrWx"
      },
      "execution_count": 178,
      "outputs": []
    },
    {
      "cell_type": "markdown",
      "source": [
        "**Implement the `mlp` function** *(1 point)*"
      ],
      "metadata": {
        "id": "IgLcqBZvWiBB"
      }
    },
    {
      "cell_type": "code",
      "source": [
        "def mlp(inputs, W1, W2, b1, b2):\n",
        "  '''\n",
        "    Defines the multi-layer perceptron model\n",
        "\n",
        "    Note: Only 1 hidden layer\n",
        "  '''\n",
        "  y1=perceptron(inputs,W1,b1)\n",
        "  y2=perceptron(y1,W2,b2)\n",
        "  return y2"
      ],
      "metadata": {
        "id": "HPkqgXl0nTOu"
      },
      "execution_count": 179,
      "outputs": []
    },
    {
      "cell_type": "markdown",
      "source": [
        "**Reuse the training loop**\n",
        "\n",
        "NOTE: It will require slight modification due to the hidden layer"
      ],
      "metadata": {
        "id": "WSYnvKmHWXwx"
      }
    },
    {
      "cell_type": "code",
      "source": [
        "n_epochs = 100\n",
        "lr = 5e-1\n",
        "losses = []\n",
        "for _ in range(n_epochs):\n",
        "  # Define the Training Loop here\n",
        "  # \n",
        "  # Get predictions\n",
        "  preds=mlp(X, W1, W2, b1, b2)\n",
        "  loss=binary_cross_entropy(preds, y)\n",
        "  loss.backward()\n",
        "    \n",
        "  losses.append(loss.item())\n",
        "  with torch.no_grad():\n",
        "      \n",
        "    \n",
        "      W1-=W1.grad*lr\n",
        "      b1-=b1.grad*lr\n",
        "      W2-=W2.grad*lr\n",
        "      b2-=b2.grad*lr\n",
        "      W1.grad.zero_()\n",
        "      b1.grad.zero_()\n",
        "      W2.grad.zero_()\n",
        "      b2.grad.zero_()\n",
        "  # Calculate Loss\n",
        "  # Do a backward step (to calculate gradients)\n",
        "  # Update Weights\n",
        "  # Append Loss"
      ],
      "metadata": {
        "id": "28s4YigtnW4A"
      },
      "execution_count": 180,
      "outputs": []
    },
    {
      "cell_type": "code",
      "source": [
        "plt.plot(losses)"
      ],
      "metadata": {
        "colab": {
          "base_uri": "https://localhost:8080/",
          "height": 282
        },
        "id": "aCQ1ytUQn7rR",
        "outputId": "88900ef3-3269-4540-8215-5a8af062355b"
      },
      "execution_count": 181,
      "outputs": [
        {
          "output_type": "execute_result",
          "data": {
            "text/plain": [
              "[<matplotlib.lines.Line2D at 0x7faebd24cd50>]"
            ]
          },
          "metadata": {},
          "execution_count": 181
        },
        {
          "output_type": "display_data",
          "data": {
            "text/plain": [
              "<Figure size 432x288 with 1 Axes>"
            ],
            "image/png": "[encoded data removed]"
          },
          "metadata": {
            "needs_background": "light"
          }
        }
      ]
    },
    {
      "cell_type": "code",
      "source": [
        "with torch.no_grad():\n",
        "  print((mlp(X, W1, W2, b1, b2) > 0.5).int())"
      ],
      "metadata": {
        "colab": {
          "base_uri": "https://localhost:8080/"
        },
        "id": "f79jOcDZoXwl",
        "outputId": "b7a08c91-f29f-4183-8f87-3741c991f119"
      },
      "execution_count": 182,
      "outputs": [
        {
          "output_type": "stream",
          "name": "stdout",
          "text": [
            "tensor([[0],\n",
            "        [1],\n",
            "        [1],\n",
            "        [0]], dtype=torch.int32)\n"
          ]
        }
      ]
    },
    {
      "cell_type": "code",
      "source": [
        ""
      ],
      "metadata": {
        "id": "ECHc8EExobNl"
      },
      "execution_count": null,
      "outputs": []
    }
  ]
}