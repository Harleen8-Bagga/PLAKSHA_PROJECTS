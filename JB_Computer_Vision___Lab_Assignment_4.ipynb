{
  "nbformat": 4,
  "nbformat_minor": 0,
  "metadata": {
    "colab": {
      "name": "JB_Computer Vision _ Lab Assignment 4.ipynb",
      "provenance": []
    },
    "kernelspec": {
      "name": "python3",
      "display_name": "Python 3"
    },
    "language_info": {
      "name": "python"
    }
  },
  "cells": [
    {
      "cell_type": "markdown",
      "source": [
        "# Lab Assignment 4\n",
        "\n",
        "**Computer Vision** - Term 5, 2022\n",
        "\n",
        "Instructor: Dr. Saumya Jetly <br>\n",
        "TA: Ribhu Lahiri\n",
        "\n",
        "*Deadline: Wednesday, 23 March 2022 11:59 pm* \n",
        "\n",
        "Submission form link: https://forms.gle/B9m2khtKNStHLCLL8\n",
        "\n",
        "Total points: 5\n"
      ],
      "metadata": {
        "id": "wMpd_g_2supN"
      }
    },
    {
      "cell_type": "code",
      "execution_count": 26,
      "metadata": {
        "id": "fJNYVdxmsm8F"
      },
      "outputs": [],
      "source": [
        "# Imports\n",
        "import math\n",
        "import torch\n",
        "import numpy as np\n",
        "import matplotlib.pyplot as plt\n",
        "import pandas as pd"
      ]
    },
    {
      "cell_type": "markdown",
      "source": [
        "### Task 1: Creating the single layer perceptron (3 points)\n",
        "\n",
        "In this lab we will focus on the perceptron, and how it can be used to model logic gates. Further, this same idea can be extended further due to perceptrons being a universal function approximator"
      ],
      "metadata": {
        "id": "ZxYOhSDgTJ5z"
      }
    },
    {
      "cell_type": "markdown",
      "source": [
        "**Implement the `sigmoid` function** *(1 point)*\n",
        "\n",
        "$𝑆(x) = \\frac{1}{1 + e^{-x}}$\n",
        "\n"
      ],
      "metadata": {
        "id": "fgU5WY3TV-GM"
      }
    },
    {
      "cell_type": "code",
      "source": [
        "def sigmoid(x):\n",
        "  '''\n",
        "    Applies the sigmoid function to the given input\n",
        "\n",
        "    Parameters\n",
        "    ----------\n",
        "    x: torch.Tensor\n",
        "        Input array/tensor\n",
        "\n",
        "    Returns\n",
        "    -------\n",
        "    out: torch.Tensor\n",
        "        Tensor after applying sigmoid function to it\n",
        "  '''\n",
        "  return 1.0/(1+torch.exp(-x))"
      ],
      "metadata": {
        "id": "44NvwA86iYS5"
      },
      "execution_count": 27,
      "outputs": []
    },
    {
      "cell_type": "markdown",
      "source": [
        "**Implement the `perceptron` function** *(1 point)*\n",
        "\n",
        "$y' = x \\bullet W^t + b$"
      ],
      "metadata": {
        "id": "J-Tunf1PWDRG"
      }
    },
    {
      "cell_type": "code",
      "source": [
        "def perceptron(inputs, weights, bias):\n",
        "  '''\n",
        "    Defines the single layer perceptron model\n",
        "  '''\n",
        "  h = torch.add(inputs@ torch.transpose(weights,1,0),  bias)\n",
        "  return sigmoid(h)"
      ],
      "metadata": {
        "id": "8wzx5Zt-haY8"
      },
      "execution_count": 28,
      "outputs": []
    },
    {
      "cell_type": "markdown",
      "source": [
        "**Implement the `binary_cross_entropy` function** *(1 point)*\n",
        "\n",
        "$\\mathrm{Loss} = - \\frac{1}{\\mathrm{N}} \\sum_{i=1}^{\\mathrm{N}} y_i \\cdot \\mathrm{log}\\; {\\hat{y}}_i + (1-y_i) \\cdot \\mathrm{log}\\; (1-{\\hat{y}}_i)$"
      ],
      "metadata": {
        "id": "STk3yf2tWFM3"
      }
    },
    {
      "cell_type": "code",
      "source": [
        "def binary_cross_entropy(preds, targets):\n",
        "  '''\n",
        "    Applies binary cross entropy given predictions and ground truth\n",
        "  '''\n",
        "  bce = -1 * (torch.sum(((1 - targets) * torch.log(1 - preds)) + (targets * torch.log(preds))).mean())\n",
        "  return bce"
      ],
      "metadata": {
        "id": "lAg5YyfPiL9i"
      },
      "execution_count": 80,
      "outputs": []
    },
    {
      "cell_type": "markdown",
      "source": [
        ""
      ],
      "metadata": {
        "id": "NzxEsLjqqaUL"
      }
    },
    {
      "cell_type": "markdown",
      "source": [
        "## AND Gate"
      ],
      "metadata": {
        "id": "PitABqssebNz"
      }
    },
    {
      "cell_type": "code",
      "source": [
        "and_data = np.array([[0,0,0],\n",
        "                     [0,1,0],\n",
        "                     [1,0,0],\n",
        "                     [1,1,1]])\n",
        "\n",
        "# Creating a PyTorch tensor\n",
        "and_data = torch.Tensor(and_data)"
      ],
      "metadata": {
        "id": "9pVPVp6WeJfu"
      },
      "execution_count": 81,
      "outputs": []
    },
    {
      "cell_type": "code",
      "source": [
        "# Same slicing as np arrays\n",
        "X = and_data[:,:-1]\n",
        "y = and_data[:,-1:]"
      ],
      "metadata": {
        "id": "miB9u_0yfGWf"
      },
      "execution_count": 82,
      "outputs": []
    },
    {
      "cell_type": "code",
      "source": [
        "W = torch.randn((1,2), requires_grad=True)\n",
        "b = torch.randn((1,1), requires_grad=True)"
      ],
      "metadata": {
        "id": "zt5YcThwf_3f"
      },
      "execution_count": 83,
      "outputs": []
    },
    {
      "cell_type": "markdown",
      "source": [
        "**Create the training loop** *(1 point)*"
      ],
      "metadata": {
        "id": "thpCI3K1WID_"
      }
    },
    {
      "cell_type": "code",
      "source": [
        "n_epochs = 100\n",
        "lr = 5e-1\n",
        "losses = []\n",
        "for epoch in range(n_epochs):\n",
        "  y_pred = perceptron(X,W,b)\n",
        "  loss = binary_cross_entropy(y_pred, y)\n",
        "  loss.backward()\n",
        "\n",
        "  with torch.no_grad():\n",
        "      W -= lr* W.grad\n",
        "      b -= lr* b.grad\n",
        "      W.grad.zero_()\n",
        "      b.grad.zero_()\n",
        "\n",
        "  losses.append(loss.item())"
      ],
      "metadata": {
        "id": "Htp_t7erfnY-"
      },
      "execution_count": 84,
      "outputs": []
    },
    {
      "cell_type": "code",
      "source": [
        "print(losses)\n",
        "plt.plot(losses)"
      ],
      "metadata": {
        "colab": {
          "base_uri": "https://localhost:8080/",
          "height": 320
        },
        "id": "ZhGdWNaNkIJK",
        "outputId": "be560031-7e37-40d6-baf7-2c5430cbd6d3"
      },
      "execution_count": 85,
      "outputs": [
        {
          "output_type": "stream",
          "name": "stdout",
          "text": [
            "[3.5147547721862793, 2.6578431129455566, 2.4121599197387695, 2.23268985748291, 2.0804057121276855, 1.9487240314483643, 1.8340094089508057, 1.7333831787109375, 1.644497036933899, 1.5654388666152954, 1.4946551322937012, 1.4308825731277466, 1.3730896711349487, 1.3204317092895508, 1.272212028503418, 1.2278530597686768, 1.1868739128112793, 1.1488707065582275, 1.1135026216506958, 1.0804800987243652, 1.0495562553405762, 1.0205183029174805, 0.9931832551956177, 0.9673914909362793, 0.9430040121078491, 0.9198987483978271, 0.8979684114456177, 0.8771180510520935, 0.8572627305984497, 0.8383275866508484, 0.8202451467514038, 0.8029541969299316, 0.7864009141921997, 0.7705351114273071, 0.7553125023841858, 0.7406920194625854, 0.7266367673873901, 0.7131125330924988, 0.7000880241394043, 0.6875348091125488, 0.675426721572876, 0.6637388467788696, 0.6524492502212524, 0.6415368318557739, 0.6309821605682373, 0.6207677125930786, 0.6108763813972473, 0.601292610168457, 0.5920019149780273, 0.5829907655715942, 0.5742462873458862, 0.5657565593719482, 0.5575101971626282, 0.549497127532959, 0.5417068600654602, 0.5341302156448364, 0.5267586708068848, 0.5195838212966919, 0.5125973224639893, 0.5057922005653381, 0.4991615116596222, 0.49269816279411316, 0.4863961935043335, 0.48024922609329224, 0.47425195574760437, 0.4683988690376282, 0.46268463134765625, 0.457104355096817, 0.45165354013442993, 0.44632765650749207, 0.44112256169319153, 0.4360339045524597, 0.4310579299926758, 0.42619121074676514, 0.4214297831058502, 0.4167705476284027, 0.4122101962566376, 0.4077455699443817, 0.4033737778663635, 0.3990919589996338, 0.39489734172821045, 0.3907873034477234, 0.38675934076309204, 0.3828109800815582, 0.3789401352405548, 0.3751443028450012, 0.371421217918396, 0.367769330739975, 0.36418616771698, 0.36066997051239014, 0.35721904039382935, 0.35383152961730957, 0.3505054712295532, 0.34723958373069763, 0.34403201937675476, 0.3408814072608948, 0.3377859592437744, 0.3347446620464325, 0.3317559063434601, 0.3288184106349945]\n"
          ]
        },
        {
          "output_type": "execute_result",
          "data": {
            "text/plain": [
              "[<matplotlib.lines.Line2D at 0x7fe9f3413f90>]"
            ]
          },
          "metadata": {},
          "execution_count": 85
        },
        {
          "output_type": "display_data",
          "data": {
            "text/plain": [
              "<Figure size 432x288 with 1 Axes>"
            ],
            "image/png": "[encoded data removed]"
          },
          "metadata": {
            "needs_background": "light"
          }
        }
      ]
    },
    {
      "cell_type": "code",
      "source": [
        "with torch.no_grad():\n",
        "  print((perceptron(X, W, b) > 0.5).int())"
      ],
      "metadata": {
        "colab": {
          "base_uri": "https://localhost:8080/"
        },
        "id": "_AFaaDwkkbWK",
        "outputId": "f01fea1d-402d-43e3-d6e2-dc5c122a2f43"
      },
      "execution_count": 86,
      "outputs": [
        {
          "output_type": "stream",
          "name": "stdout",
          "text": [
            "tensor([[0],\n",
            "        [0],\n",
            "        [0],\n",
            "        [1]], dtype=torch.int32)\n"
          ]
        }
      ]
    },
    {
      "cell_type": "markdown",
      "source": [
        "## OR Gate"
      ],
      "metadata": {
        "id": "nxayZJ1UlLhR"
      }
    },
    {
      "cell_type": "code",
      "source": [
        "or_data = np.array([[0,0,0],\n",
        "                     [0,1,1],\n",
        "                     [1,0,1],\n",
        "                     [1,1,1]])\n",
        "\n",
        "# Creating a PyTorch tensor\n",
        "or_data = torch.Tensor(or_data)"
      ],
      "metadata": {
        "id": "O-C34mEjlFmj"
      },
      "execution_count": 36,
      "outputs": []
    },
    {
      "cell_type": "code",
      "source": [
        "# Same slicing as np arrays\n",
        "X = or_data[:,:-1]\n",
        "y = or_data[:,-1:]"
      ],
      "metadata": {
        "id": "vxOYpywhlVMm"
      },
      "execution_count": 37,
      "outputs": []
    },
    {
      "cell_type": "code",
      "source": [
        "W = torch.randn((1,2), requires_grad=True)\n",
        "b = torch.randn((1,1), requires_grad=True)"
      ],
      "metadata": {
        "id": "unqZ4I0vlVPB"
      },
      "execution_count": 38,
      "outputs": []
    },
    {
      "cell_type": "markdown",
      "source": [
        "**Reuse the training loop**"
      ],
      "metadata": {
        "id": "Nh9u6mxAWNhn"
      }
    },
    {
      "cell_type": "code",
      "source": [
        "n_epochs = 100\n",
        "lr = 5e-1\n",
        "losses = []\n",
        "for _ in range(n_epochs):\n",
        "  y_pred = perceptron(X,W,b)\n",
        "  loss = binary_cross_entropy(y_pred, y)\n",
        "  loss.backward()\n",
        "\n",
        "  with torch.no_grad():\n",
        "      W -= lr* W.grad\n",
        "      b -= lr* b.grad\n",
        "      W.grad.zero_()\n",
        "      b.grad.zero_()\n",
        "\n",
        "  losses.append(loss.item())"
      ],
      "metadata": {
        "id": "L0KkuJdhlVRV"
      },
      "execution_count": 40,
      "outputs": []
    },
    {
      "cell_type": "code",
      "source": [
        "plt.plot(losses)"
      ],
      "metadata": {
        "colab": {
          "base_uri": "https://localhost:8080/",
          "height": 282
        },
        "id": "mNDDOtiblVTt",
        "outputId": "b5f8aacf-b48a-4f5e-ce54-e9f44ccc4322"
      },
      "execution_count": 41,
      "outputs": [
        {
          "output_type": "execute_result",
          "data": {
            "text/plain": [
              "[<matplotlib.lines.Line2D at 0x7fe9f5633d90>]"
            ]
          },
          "metadata": {},
          "execution_count": 41
        },
        {
          "output_type": "display_data",
          "data": {
            "text/plain": [
              "<Figure size 432x288 with 1 Axes>"
            ],
            "image/png": "[encoded data removed]"
          },
          "metadata": {
            "needs_background": "light"
          }
        }
      ]
    },
    {
      "cell_type": "code",
      "source": [
        "with torch.no_grad():\n",
        "  print((perceptron(X, W, b) > 0.5).int())"
      ],
      "metadata": {
        "colab": {
          "base_uri": "https://localhost:8080/"
        },
        "id": "X3UCWJUXlVV5",
        "outputId": "26182c29-c5e4-4f6a-89ff-664ea6b319de"
      },
      "execution_count": 42,
      "outputs": [
        {
          "output_type": "stream",
          "name": "stdout",
          "text": [
            "tensor([[0],\n",
            "        [1],\n",
            "        [1],\n",
            "        [1]], dtype=torch.int32)\n"
          ]
        }
      ]
    },
    {
      "cell_type": "markdown",
      "source": [
        "## XOR Gate"
      ],
      "metadata": {
        "id": "wiDm-OVLmPbJ"
      }
    },
    {
      "cell_type": "code",
      "source": [
        "xor_data = np.array([[0,0,0],\n",
        "                     [0,1,1],\n",
        "                     [1,0,1],\n",
        "                     [1,1,0]])\n",
        "\n",
        "# Creating a PyTorch tensor\n",
        "xor_data = torch.Tensor(xor_data)"
      ],
      "metadata": {
        "id": "OKEcg3LhmO96"
      },
      "execution_count": 43,
      "outputs": []
    },
    {
      "cell_type": "code",
      "source": [
        "# Same slicing as np arrays\n",
        "X = xor_data[:,:-1]\n",
        "y = xor_data[:,-1:]"
      ],
      "metadata": {
        "id": "zKIahsfhmdlZ"
      },
      "execution_count": 44,
      "outputs": []
    },
    {
      "cell_type": "code",
      "source": [
        "W = torch.randn((1,2), requires_grad=True)\n",
        "b = torch.randn((1,1), requires_grad=True)"
      ],
      "metadata": {
        "id": "OoSEcw4_mgX_"
      },
      "execution_count": 45,
      "outputs": []
    },
    {
      "cell_type": "markdown",
      "source": [
        "**Reuse the training loop**"
      ],
      "metadata": {
        "id": "pnwosFetWV0g"
      }
    },
    {
      "cell_type": "code",
      "source": [
        "n_epochs = 100\n",
        "lr = 5e-1\n",
        "losses = []\n",
        "for _ in range(n_epochs):\n",
        "  y_pred = perceptron(X,W,b)\n",
        "  loss = binary_cross_entropy(y_pred, y)\n",
        "  loss.backward()\n",
        "\n",
        "  with torch.no_grad():\n",
        "      W -= lr* W.grad\n",
        "      b -= lr* b.grad\n",
        "      W.grad.zero_()\n",
        "      b.grad.zero_()\n",
        "\n",
        "  losses.append(loss.item())"
      ],
      "metadata": {
        "id": "wSqYPKw1miXl"
      },
      "execution_count": 46,
      "outputs": []
    },
    {
      "cell_type": "code",
      "source": [
        "plt.plot(losses)"
      ],
      "metadata": {
        "colab": {
          "base_uri": "https://localhost:8080/",
          "height": 282
        },
        "id": "yxOtiWiamnvE",
        "outputId": "6dcc3cab-9b75-4dfe-8fcf-e40866b0cfc6"
      },
      "execution_count": 47,
      "outputs": [
        {
          "output_type": "execute_result",
          "data": {
            "text/plain": [
              "[<matplotlib.lines.Line2D at 0x7fe9f55ab7d0>]"
            ]
          },
          "metadata": {},
          "execution_count": 47
        },
        {
          "output_type": "display_data",
          "data": {
            "text/plain": [
              "<Figure size 432x288 with 1 Axes>"
            ],
            "image/png": "[encoded data removed]"
          },
          "metadata": {
            "needs_background": "light"
          }
        }
      ]
    },
    {
      "cell_type": "code",
      "source": [
        "with torch.no_grad():\n",
        "  print((perceptron(X, W, b) > 0.5).int())"
      ],
      "metadata": {
        "colab": {
          "base_uri": "https://localhost:8080/"
        },
        "id": "cG7JSCcKmpHq",
        "outputId": "8dad4a48-3063-48db-9882-34cd757ee6c3"
      },
      "execution_count": 48,
      "outputs": [
        {
          "output_type": "stream",
          "name": "stdout",
          "text": [
            "tensor([[0],\n",
            "        [0],\n",
            "        [0],\n",
            "        [1]], dtype=torch.int32)\n"
          ]
        }
      ]
    },
    {
      "cell_type": "markdown",
      "source": [
        "## Need for MLP\n",
        "\n",
        "As seen above, we are unable to model the XOR gate using a single layer perceptron, so we need to add a hidden layer."
      ],
      "metadata": {
        "id": "likiWP34nI7w"
      }
    },
    {
      "cell_type": "code",
      "source": [
        "W1 = torch.randn((10,2), requires_grad=True)\n",
        "W2 = torch.randn((1,10), requires_grad=True)\n",
        "b1 = torch.randn((1,10), requires_grad=True)\n",
        "b2 = torch.randn((1,1), requires_grad=True)"
      ],
      "metadata": {
        "id": "5EAfHk5EmrWx"
      },
      "execution_count": 64,
      "outputs": []
    },
    {
      "cell_type": "markdown",
      "source": [
        "**Implement the `mlp` function** *(1 point)*"
      ],
      "metadata": {
        "id": "IgLcqBZvWiBB"
      }
    },
    {
      "cell_type": "code",
      "source": [
        "def mlp(inputs, W1, W2, b1, b2):\n",
        "  '''\n",
        "    Defines the multi-layer perceptron model\n",
        "\n",
        "    Note: Only 1 hidden layer\n",
        "  '''\n",
        "  yhat = perceptron(inputs,W1,b1) #Layer 1\n",
        "  y_pred = perceptron(yhat,W2,b2) #Layer 2\n",
        "\n",
        "  return y_pred"
      ],
      "metadata": {
        "id": "HPkqgXl0nTOu"
      },
      "execution_count": 65,
      "outputs": []
    },
    {
      "cell_type": "markdown",
      "source": [
        "**Reuse the training loop**\n",
        "\n",
        "NOTE: It will require slight modification due to the hidden layer"
      ],
      "metadata": {
        "id": "WSYnvKmHWXwx"
      }
    },
    {
      "cell_type": "code",
      "source": [
        "n_epochs = 1000\n",
        "lr = 5e-1\n",
        "losses = []\n",
        "for _ in range(n_epochs):\n",
        "  y_pred = mlp(X, W1, W2, b1, b2)\n",
        "\n",
        "  # calculating the bce loss\n",
        "  loss = binary_cross_entropy(y_pred, y)\n",
        "\n",
        "  loss.backward()\n",
        "\n",
        "  # Updating the weights and biases\n",
        "  with torch.no_grad():\n",
        "      W1 -= lr* W1.grad\n",
        "      W2 -= lr* W2.grad\n",
        "      b1 -= lr* b1.grad\n",
        "      b2 -= lr* b2.grad\n",
        "      W1.grad.zero_()\n",
        "      b1.grad.zero_()\n",
        "      W2.grad.zero_()\n",
        "      b2.grad.zero_()\n",
        "  losses.append(loss.item())"
      ],
      "metadata": {
        "id": "CGNWK3rvn4YA"
      },
      "execution_count": 66,
      "outputs": []
    },
    {
      "cell_type": "code",
      "source": [
        "plt.plot(losses)"
      ],
      "metadata": {
        "colab": {
          "base_uri": "https://localhost:8080/",
          "height": 283
        },
        "id": "aCQ1ytUQn7rR",
        "outputId": "70317b71-3c3c-4dce-a2d4-39b110a77cbb"
      },
      "execution_count": 67,
      "outputs": [
        {
          "output_type": "execute_result",
          "data": {
            "text/plain": [
              "[<matplotlib.lines.Line2D at 0x7fe9f35e4d50>]"
            ]
          },
          "metadata": {},
          "execution_count": 67
        },
        {
          "output_type": "display_data",
          "data": {
            "text/plain": [
              "<Figure size 432x288 with 1 Axes>"
            ],
            "image/png": "[encoded data removed]"
          },
          "metadata": {
            "needs_background": "light"
          }
        }
      ]
    },
    {
      "cell_type": "code",
      "source": [
        "with torch.no_grad():\n",
        "  print((mlp(X, W1, W2, b1, b2) > 0.5).int())"
      ],
      "metadata": {
        "colab": {
          "base_uri": "https://localhost:8080/"
        },
        "id": "f79jOcDZoXwl",
        "outputId": "d6a32fe4-ec6b-4a84-d3f0-d721694e3a09"
      },
      "execution_count": 63,
      "outputs": [
        {
          "output_type": "stream",
          "name": "stdout",
          "text": [
            "tensor([[0],\n",
            "        [0],\n",
            "        [0],\n",
            "        [0]], dtype=torch.int32)\n"
          ]
        }
      ]
    }
  ]
}