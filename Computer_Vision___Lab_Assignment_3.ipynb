{
  "nbformat": 4,
  "nbformat_minor": 0,
  "metadata": {
    "colab": {
      "name": "Copy of Computer Vision _ Lab Assignment 3.ipynb",
      "provenance": [],
      "collapsed_sections": []
    },
    "kernelspec": {
      "name": "python3",
      "display_name": "Python 3"
    },
    "language_info": {
      "name": "python"
    }
  },
  "cells": [
    {
      "cell_type": "markdown",
      "source": [
        "# Lab Assignment 3\n",
        "\n",
        "**Computer Vision** - Term 5, 2022\n",
        "\n",
        "Instructor: Dr. Saumya Jetly <br>\n",
        "TA: Ribhu Lahiri\n",
        "\n",
        "*Deadline: Friday, 18 March 2022 11:59 pm* \n",
        "\n",
        "Submission form link: https://forms.gle/aLT9AqtasQemhWMN9\n",
        "\n",
        "Total points: 5 (with possible extra credit)\n"
      ],
      "metadata": {
        "id": "wMpd_g_2supN"
      }
    },
    {
      "cell_type": "markdown",
      "source": [
        "### Before Starting\n",
        "\n",
        "Please download the FER-2013 dataset here: https://drive.google.com/file/d/1GTX0XYKtyOo9VADHL_AjLcp59si1aFkZ/view?usp=sharing\n",
        "\n",
        "You will need it for the tasks that follow."
      ],
      "metadata": {
        "id": "vw1BAgfama5b"
      }
    },
    {
      "cell_type": "code",
      "source": [
        "# This is path that has training data on my google drive.\n",
        "!ls /content/drive/MyDrive/fer2013.zip"
      ],
      "metadata": {
        "colab": {
          "base_uri": "https://localhost:8080/"
        },
        "id": "ZAxq2eQVRd5y",
        "outputId": "079f10f2-ef27-417b-f229-f3625f443e47"
      },
      "execution_count": 13,
      "outputs": [
        {
          "output_type": "stream",
          "name": "stdout",
          "text": [
            "/content/drive/MyDrive/fer2013.zip\n"
          ]
        }
      ]
    },
    {
      "cell_type": "code",
      "source": [
        "!unzip  /content/fer2013.zip"
      ],
      "metadata": {
        "colab": {
          "base_uri": "https://localhost:8080/"
        },
        "id": "GAllzAi2ImMb",
        "outputId": "cf2bd7e9-fc8c-4a51-fa73-57e685f5519b"
      },
      "execution_count": null,
      "outputs": [
        {
          "output_type": "stream",
          "name": "stdout",
          "text": [
            "Archive:  /content/fer2013.zip\n",
            "replace fer2013.csv? [y]es, [n]o, [A]ll, [N]one, [r]ename: n\n",
            "replace __MACOSX/._fer2013.csv? [y]es, [n]o, [A]ll, [N]one, [r]ename: n\n"
          ]
        }
      ]
    },
    {
      "cell_type": "code",
      "source": [
        "!ls fer2013 | wc -l"
      ],
      "metadata": {
        "colab": {
          "base_uri": "https://localhost:8080/"
        },
        "id": "I3F49Swf0NrW",
        "outputId": "40a7b72b-8957-4c98-ba27-b6d83040edfb"
      },
      "execution_count": null,
      "outputs": [
        {
          "output_type": "stream",
          "name": "stdout",
          "text": [
            "ls: cannot access 'fer2013': No such file or directory\n",
            "0\n"
          ]
        }
      ]
    },
    {
      "cell_type": "code",
      "execution_count": 17,
      "metadata": {
        "id": "fJNYVdxmsm8F"
      },
      "outputs": [],
      "source": [
        "import math\n",
        "import numpy as np\n",
        "import matplotlib.pyplot as plt\n",
        "import pandas as pd\n",
        "from skimage import io\n",
        "from skimage import color\n",
        "from skimage.transform import resize\n",
        "from skimage.feature import hog"
      ]
    },
    {
      "cell_type": "code",
      "source": [
        "# Reading in the dataset\n",
        "df = pd.read_csv('./fer2013.csv')\n",
        "df.head()"
      ],
      "metadata": {
        "id": "5e5hHSSHphHU",
        "colab": {
          "base_uri": "https://localhost:8080/",
          "height": 206
        },
        "outputId": "a4c1bbd7-6f20-42e9-b638-df49ae880480"
      },
      "execution_count": 19,
      "outputs": [
        {
          "output_type": "execute_result",
          "data": {
            "text/plain": [
              "   emotion                                             pixels     Usage\n",
              "0        0  70 80 82 72 58 58 60 63 54 58 60 48 89 115 121...  Training\n",
              "1        0  151 150 147 155 148 133 111 140 170 174 182 15...  Training\n",
              "2        2  231 212 156 164 174 138 161 173 182 200 106 38...  Training\n",
              "3        4  24 32 36 30 32 23 19 20 30 41 21 22 32 34 21 1...  Training\n",
              "4        6  4 0 0 0 0 0 0 0 0 0 0 0 3 15 23 28 48 50 58 84...  Training"
            ],
            "text/html": [
              "\n",
              "  <div id=\"df-b6a2aced-e2b6-4873-858d-1cdbafa85889\">\n",
              "    <div class=\"colab-df-container\">\n",
              "      <div>\n",
              "<style scoped>\n",
              "    .dataframe tbody tr th:only-of-type {\n",
              "        vertical-align: middle;\n",
              "    }\n",
              "\n",
              "    .dataframe tbody tr th {\n",
              "        vertical-align: top;\n",
              "    }\n",
              "\n",
              "    .dataframe thead th {\n",
              "        text-align: right;\n",
              "    }\n",
              "</style>\n",
              "<table border=\"1\" class=\"dataframe\">\n",
              "  <thead>\n",
              "    <tr style=\"text-align: right;\">\n",
              "      <th></th>\n",
              "      <th>emotion</th>\n",
              "      <th>pixels</th>\n",
              "      <th>Usage</th>\n",
              "    </tr>\n",
              "  </thead>\n",
              "  <tbody>\n",
              "    <tr>\n",
              "      <th>0</th>\n",
              "      <td>0</td>\n",
              "      <td>70 80 82 72 58 58 60 63 54 58 60 48 89 115 121...</td>\n",
              "      <td>Training</td>\n",
              "    </tr>\n",
              "    <tr>\n",
              "      <th>1</th>\n",
              "      <td>0</td>\n",
              "      <td>151 150 147 155 148 133 111 140 170 174 182 15...</td>\n",
              "      <td>Training</td>\n",
              "    </tr>\n",
              "    <tr>\n",
              "      <th>2</th>\n",
              "      <td>2</td>\n",
              "      <td>231 212 156 164 174 138 161 173 182 200 106 38...</td>\n",
              "      <td>Training</td>\n",
              "    </tr>\n",
              "    <tr>\n",
              "      <th>3</th>\n",
              "      <td>4</td>\n",
              "      <td>24 32 36 30 32 23 19 20 30 41 21 22 32 34 21 1...</td>\n",
              "      <td>Training</td>\n",
              "    </tr>\n",
              "    <tr>\n",
              "      <th>4</th>\n",
              "      <td>6</td>\n",
              "      <td>4 0 0 0 0 0 0 0 0 0 0 0 3 15 23 28 48 50 58 84...</td>\n",
              "      <td>Training</td>\n",
              "    </tr>\n",
              "  </tbody>\n",
              "</table>\n",
              "</div>\n",
              "      <button class=\"colab-df-convert\" onclick=\"convertToInteractive('df-b6a2aced-e2b6-4873-858d-1cdbafa85889')\"\n",
              "              title=\"Convert this dataframe to an interactive table.\"\n",
              "              style=\"display:none;\">\n",
              "        \n",
              "  <svg xmlns=\"http://www.w3.org/2000/svg\" height=\"24px\"viewBox=\"0 0 24 24\"\n",
              "       width=\"24px\">\n",
              "    <path d=\"M0 0h24v24H0V0z\" fill=\"none\"/>\n",
              "    <path d=\"M18.56 5.44l.94 2.06.94-2.06 2.06-.94-2.06-.94-.94-2.06-.94 2.06-2.06.94zm-11 1L8.5 8.5l.94-2.06 2.06-.94-2.06-.94L8.5 2.5l-.94 2.06-2.06.94zm10 10l.94 2.06.94-2.06 2.06-.94-2.06-.94-.94-2.06-.94 2.06-2.06.94z\"/><path d=\"M17.41 7.96l-1.37-1.37c-.4-.4-.92-.59-1.43-.59-.52 0-1.04.2-1.43.59L10.3 9.45l-7.72 7.72c-.78.78-.78 2.05 0 2.83L4 21.41c.39.39.9.59 1.41.59.51 0 1.02-.2 1.41-.59l7.78-7.78 2.81-2.81c.8-.78.8-2.07 0-2.86zM5.41 20L4 18.59l7.72-7.72 1.47 1.35L5.41 20z\"/>\n",
              "  </svg>\n",
              "      </button>\n",
              "      \n",
              "  <style>\n",
              "    .colab-df-container {\n",
              "      display:flex;\n",
              "      flex-wrap:wrap;\n",
              "      gap: 12px;\n",
              "    }\n",
              "\n",
              "    .colab-df-convert {\n",
              "      background-color: #E8F0FE;\n",
              "      border: none;\n",
              "      border-radius: 50%;\n",
              "      cursor: pointer;\n",
              "      display: none;\n",
              "      fill: #1967D2;\n",
              "      height: 32px;\n",
              "      padding: 0 0 0 0;\n",
              "      width: 32px;\n",
              "    }\n",
              "\n",
              "    .colab-df-convert:hover {\n",
              "      background-color: #E2EBFA;\n",
              "      box-shadow: 0px 1px 2px rgba(60, 64, 67, 0.3), 0px 1px 3px 1px rgba(60, 64, 67, 0.15);\n",
              "      fill: #174EA6;\n",
              "    }\n",
              "\n",
              "    [theme=dark] .colab-df-convert {\n",
              "      background-color: #3B4455;\n",
              "      fill: #D2E3FC;\n",
              "    }\n",
              "\n",
              "    [theme=dark] .colab-df-convert:hover {\n",
              "      background-color: #434B5C;\n",
              "      box-shadow: 0px 1px 3px 1px rgba(0, 0, 0, 0.15);\n",
              "      filter: drop-shadow(0px 1px 2px rgba(0, 0, 0, 0.3));\n",
              "      fill: #FFFFFF;\n",
              "    }\n",
              "  </style>\n",
              "\n",
              "      <script>\n",
              "        const buttonEl =\n",
              "          document.querySelector('#df-b6a2aced-e2b6-4873-858d-1cdbafa85889 button.colab-df-convert');\n",
              "        buttonEl.style.display =\n",
              "          google.colab.kernel.accessAllowed ? 'block' : 'none';\n",
              "\n",
              "        async function convertToInteractive(key) {\n",
              "          const element = document.querySelector('#df-b6a2aced-e2b6-4873-858d-1cdbafa85889');\n",
              "          const dataTable =\n",
              "            await google.colab.kernel.invokeFunction('convertToInteractive',\n",
              "                                                     [key], {});\n",
              "          if (!dataTable) return;\n",
              "\n",
              "          const docLinkHtml = 'Like what you see? Visit the ' +\n",
              "            '<a target=\"_blank\" href=https://colab.research.google.com/notebooks/data_table.ipynb>data table notebook</a>'\n",
              "            + ' to learn more about interactive tables.';\n",
              "          element.innerHTML = '';\n",
              "          dataTable['output_type'] = 'display_data';\n",
              "          await google.colab.output.renderOutput(dataTable, element);\n",
              "          const docLink = document.createElement('div');\n",
              "          docLink.innerHTML = docLinkHtml;\n",
              "          element.appendChild(docLink);\n",
              "        }\n",
              "      </script>\n",
              "    </div>\n",
              "  </div>\n",
              "  "
            ]
          },
          "metadata": {},
          "execution_count": 19
        }
      ]
    },
    {
      "cell_type": "code",
      "source": [
        "# Extract relevant data\n",
        "x_data = pd.Series(df.pixels)\n",
        "y_data = pd.Series(df.emotion)\n",
        "x_data = np.array(list(map(str.split, x_data)), np.float32)\n",
        "x_data/=255 # Normalizing"
      ],
      "metadata": {
        "id": "VFU8YbxAw0pB"
      },
      "execution_count": 20,
      "outputs": []
    },
    {
      "cell_type": "code",
      "source": [
        "# Reshape into 48x48 images\n",
        "x_data = x_data.reshape(-1, 48, 48)\n",
        "x_data.shape"
      ],
      "metadata": {
        "colab": {
          "base_uri": "https://localhost:8080/"
        },
        "id": "m-cBru5_yJc-",
        "outputId": "13291a3d-953b-4ef8-deb7-dd86361c09ba"
      },
      "execution_count": 21,
      "outputs": [
        {
          "output_type": "execute_result",
          "data": {
            "text/plain": [
              "(35887, 48, 48)"
            ]
          },
          "metadata": {},
          "execution_count": 21
        }
      ]
    },
    {
      "cell_type": "markdown",
      "source": [
        "### Task 1: Creating histogram of Oriented Gradients (4 points)\n",
        "The first task is to create the histogram of oriented gradients feature descriptor. There are two steps to it, the first is to create the oriented gradients from a given image which returns the magnitude and angle matrices. The next step then, is to use those matrices to create the histogram features.\n",
        "\n",
        "You can refer to this blog as discussed in the lab session: https://iq.opengenus.org/object-detection-with-histogram-of-oriented-gradients-hog/"
      ],
      "metadata": {
        "id": "VqkUjbYYIj2j"
      }
    },
    {
      "cell_type": "markdown",
      "source": [
        "**Implement the `get_oriented_gradients` function** *(2 points)*\n",
        "\n",
        "Use any sample image from the dataset to test out your function"
      ],
      "metadata": {
        "id": "KabkjpN5w1Fr"
      }
    },
    {
      "cell_type": "code",
      "source": [
        "# Read in any image from the dataset\n",
        "img = x_data[2]\n",
        "plt.figure(figsize=(15, 8))\n",
        "plt.imshow(img, cmap=\"gray\")\n",
        "plt.axis(\"off\")\n",
        "plt.show()"
      ],
      "metadata": {
        "id": "cNWIy4JpJ10B",
        "colab": {
          "base_uri": "https://localhost:8080/",
          "height": 466
        },
        "outputId": "ca30d437-7cda-41de-a8fe-e5a9878434ba"
      },
      "execution_count": 22,
      "outputs": [
        {
          "output_type": "display_data",
          "data": {
            "text/plain": [
              "<Figure size 1080x576 with 1 Axes>"
            ],
            "image/png": "[encoded data removed]"
          },
          "metadata": {
            "needs_background": "light"
          }
        }
      ]
    },
    {
      "cell_type": "code",
      "source": [
        "img = np.array(img)\n",
        "def get_oriented_gradients(img):\n",
        "  '''\n",
        "    Returns the magnitude and angles of the oriented gradients\n",
        "    from the given image\n",
        "\n",
        "    Parameters\n",
        "    ----------\n",
        "    img: np.ndarray\n",
        "        The given image\n",
        "\n",
        "    Returns\n",
        "    -------\n",
        "    mag: np.ndarray\n",
        "        2-D Numpy array that contains the magnitudes of the oriented gradients\n",
        "\n",
        "    theta: np.ndarray\n",
        "        2-D Numpy array that contains the angles of the oriented gradients\n",
        "  '''\n",
        "  mag = []\n",
        "  theta = []\n",
        "  for r in range(img.shape[0]):\n",
        "    magnitudes=[]\n",
        "    angles=[]\n",
        "    for c in range(img.shape[1]):\n",
        "      #condition for axis 0\n",
        "      if c-1<=0 or c+1>=img.shape[1]:\n",
        "        #condition of the first element\n",
        "        if c-1<=0:\n",
        "          Gx=img[r][c+1]-0\n",
        "        elif c+1>=img.shape[1]:\n",
        "          Gx=0-img[r][c-1]\n",
        "      else:\n",
        "        Gx=img[r][c+1]-img[r][c-1]   \n",
        "      #condition for axis 0\n",
        "      if r-1<=0 or r+1>=img.shape[0]:\n",
        "        if r-1<=0:\n",
        "          Gy=0-img[r+1][c]\n",
        "        elif r+1>=img.shape[1]:\n",
        "          Gy=img[r-1][c]-0\n",
        "        else:\n",
        "          Gy=img[r-1][c]-img[r+1][c]\n",
        "      G=math.sqrt(Gx**2+Gy**2)\n",
        "      magnitudes.append(G)\n",
        "      if Gx == 0:\n",
        "         angle = math.degrees(0.0)\n",
        "      else:\n",
        "        angle = math.degrees(math.atan(Gy / Gx))\n",
        "      angles.append(angle)\n",
        "    mag.append(magnitudes)\n",
        "    theta.append(angles)\n",
        "  return np.array(mag),np.array(theta)\n",
        "\n",
        "  \n",
        "  "
      ],
      "metadata": {
        "id": "cdkGQ2YXsreO"
      },
      "execution_count": 71,
      "outputs": []
    },
    {
      "cell_type": "code",
      "source": [
        "mag, theta = get_oriented_gradients(img)"
      ],
      "metadata": {
        "id": "rGvGXXnssw_R"
      },
      "execution_count": 72,
      "outputs": []
    },
    {
      "cell_type": "code",
      "source": [
        "print(mag)"
      ],
      "metadata": {
        "colab": {
          "base_uri": "https://localhost:8080/"
        },
        "id": "yD1sDdUr_kjg",
        "outputId": "90c5f37b-921a-43c3-c6eb-36ec26982e29"
      },
      "execution_count": 62,
      "outputs": [
        {
          "output_type": "stream",
          "name": "stdout",
          "text": [
            "[[1.22378706 0.91936326 0.61015376 ... 0.1116098  0.17577204 0.14974026]\n",
            " [1.08409211 0.84327408 0.61573625 ... 0.11008368 0.08627451 0.17577204]\n",
            " [0.62154082 0.62540109 0.11946311 ... 0.16092772 0.10980392 0.13964309]\n",
            " ...\n",
            " [0.96703847 0.98652201 0.11318329 ... 0.15808348 0.3658847  0.41101707]\n",
            " [0.98652201 0.9943168  0.11008368 ... 0.12845756 0.3472305  0.42615382]\n",
            " [1.37823472 1.38648389 0.98830532 ... 0.31010163 0.48222541 0.76790685]]\n"
          ]
        }
      ]
    },
    {
      "cell_type": "code",
      "source": [
        "print(theta)"
      ],
      "metadata": {
        "colab": {
          "base_uri": "https://localhost:8080/"
        },
        "id": "Wwm5Mc6yC325",
        "outputId": "f835041c-adbb-4c04-e793-0d2fd99cd45b"
      },
      "execution_count": 26,
      "outputs": [
        {
          "output_type": "stream",
          "name": "stdout",
          "text": [
            "[[-47.20758763 -48.28527617  72.03086199 ...  71.56504876  51.34019288\n",
            "   45.        ]\n",
            " [-50.72517548 -46.50743561  89.27015701 ...  85.9143835  -90.\n",
            "   38.65980712]\n",
            " [-10.17551055 -10.11204002 -66.80141089 ...  43.02506612 -90.\n",
            "   51.8427729 ]\n",
            " ...\n",
            " [ -6.51980179  -6.39049536 -75.96375745 ... -43.99491594 -17.4639252\n",
            "   15.49484849]\n",
            " [ -6.39049536  -6.34019179 -85.9143835  ... -58.73627003 -18.43494843\n",
            "   14.93141711]\n",
            " [ 44.42360319  45.         -89.31793965 ...  80.5376787   58.63669661\n",
            "  -55.82301188]]\n"
          ]
        }
      ]
    },
    {
      "cell_type": "code",
      "source": [
        "mag.shape[0]"
      ],
      "metadata": {
        "colab": {
          "base_uri": "https://localhost:8080/"
        },
        "id": "4PTykbdV_qc0",
        "outputId": "27ac7161-f7ff-4b97-9bb5-b93ad7a612f4"
      },
      "execution_count": null,
      "outputs": [
        {
          "output_type": "execute_result",
          "data": {
            "text/plain": [
              "48"
            ]
          },
          "metadata": {},
          "execution_count": 25
        }
      ]
    },
    {
      "cell_type": "code",
      "source": [
        "mag.shape[1]"
      ],
      "metadata": {
        "colab": {
          "base_uri": "https://localhost:8080/"
        },
        "id": "KcmoI7rgYI_w",
        "outputId": "65d7f699-c79a-4df6-97f8-306d94fded2b"
      },
      "execution_count": null,
      "outputs": [
        {
          "output_type": "execute_result",
          "data": {
            "text/plain": [
              "48"
            ]
          },
          "metadata": {},
          "execution_count": 26
        }
      ]
    },
    {
      "cell_type": "code",
      "source": [
        "theta.shape[0]"
      ],
      "metadata": {
        "colab": {
          "base_uri": "https://localhost:8080/"
        },
        "id": "YnJ7aDFdYLgf",
        "outputId": "6fd8c56b-d245-4920-e24a-cef2a11147a6"
      },
      "execution_count": null,
      "outputs": [
        {
          "output_type": "execute_result",
          "data": {
            "text/plain": [
              "48"
            ]
          },
          "metadata": {},
          "execution_count": 27
        }
      ]
    },
    {
      "cell_type": "code",
      "source": [
        "theta.shape[1]"
      ],
      "metadata": {
        "colab": {
          "base_uri": "https://localhost:8080/"
        },
        "id": "rc59gbOWYNgh",
        "outputId": "484c4402-26a7-44ab-9a60-16e3ec78ad9c"
      },
      "execution_count": null,
      "outputs": [
        {
          "output_type": "execute_result",
          "data": {
            "text/plain": [
              "48"
            ]
          },
          "metadata": {},
          "execution_count": 28
        }
      ]
    },
    {
      "cell_type": "code",
      "source": [
        "plt.figure(figsize=(15, 8))\n",
        "plt.imshow(mag, cmap=\"gray\")\n",
        "plt.axis(\"off\")\n",
        "plt.show()"
      ],
      "metadata": {
        "colab": {
          "base_uri": "https://localhost:8080/",
          "height": 466
        },
        "id": "GNfQNs-Xs2bo",
        "outputId": "aef78598-d460-48b1-9c63-d0ede8d13d51"
      },
      "execution_count": 73,
      "outputs": [
        {
          "output_type": "display_data",
          "data": {
            "text/plain": [
              "<Figure size 1080x576 with 1 Axes>"
            ],
            "image/png": "[encoded data removed]"
          },
          "metadata": {
            "needs_background": "light"
          }
        }
      ]
    },
    {
      "cell_type": "code",
      "source": [
        "plt.figure(figsize=(15, 8))\n",
        "plt.imshow(theta, cmap=\"gray\")\n",
        "plt.axis(\"off\")\n",
        "plt.show()"
      ],
      "metadata": {
        "colab": {
          "base_uri": "https://localhost:8080/",
          "height": 466
        },
        "id": "euXA42KBs5M0",
        "outputId": "0aa25691-58ca-4188-aaca-f8c205613e72"
      },
      "execution_count": 74,
      "outputs": [
        {
          "output_type": "display_data",
          "data": {
            "text/plain": [
              "<Figure size 1080x576 with 1 Axes>"
            ],
            "image/png": "[encoded data removed]"
          },
          "metadata": {
            "needs_background": "light"
          }
        }
      ]
    },
    {
      "cell_type": "code",
      "source": [
        "m_viz = (mag > 0.5).astype(float)\n",
        "plt.figure(figsize=(15, 8))\n",
        "plt.imshow(m_viz, cmap=\"gray\")\n",
        "plt.axis(\"off\")\n",
        "plt.show()"
      ],
      "metadata": {
        "colab": {
          "base_uri": "https://localhost:8080/",
          "height": 466
        },
        "id": "SgNs85SB03kb",
        "outputId": "de21a047-3d6c-4f53-c668-0ee7593988d7"
      },
      "execution_count": 75,
      "outputs": [
        {
          "output_type": "display_data",
          "data": {
            "text/plain": [
              "<Figure size 1080x576 with 1 Axes>"
            ],
            "image/png": "[encoded data removed]"
          },
          "metadata": {
            "needs_background": "light"
          }
        }
      ]
    },
    {
      "cell_type": "markdown",
      "source": [
        "**Implement the `hog_features` function** *(2 points)*\n",
        "\n",
        "Use the image, magnitudes, and angles of oriented gradients to bin them and create the HoG features to be used by our classifier\n",
        "\n",
        "NOTE: While I have set the default value of number of bins as 9. Feel free to experiment and observe the effects of changing it on the downstream task"
      ],
      "metadata": {
        "id": "6RZqycoEmypz"
      }
    },
    {
      "cell_type": "markdown",
      "source": [
        "### **Calculate the step size**"
      ],
      "metadata": {
        "id": "JiKOBSc594Sh"
      }
    },
    {
      "cell_type": "code",
      "source": [
        "number_of_bins = 9\n",
        "step_size = 180 / number_of_bins"
      ],
      "metadata": {
        "id": "AuzuF1y2-iCt"
      },
      "execution_count": 40,
      "outputs": []
    },
    {
      "cell_type": "markdown",
      "source": [
        "### **Find the nth bin**"
      ],
      "metadata": {
        "id": "FjfFX-C894bk"
      }
    },
    {
      "cell_type": "code",
      "source": [
        "def find_nth_bin(angle):\n",
        "  approximate=(angle/step_size)-0.5\n",
        "  nbin=math.floor(approximate)\n",
        "  return nbin"
      ],
      "metadata": {
        "id": "bgs6tm6WjdLy"
      },
      "execution_count": 76,
      "outputs": []
    },
    {
      "cell_type": "markdown",
      "source": [
        "### **Find the  center of nth bin**"
      ],
      "metadata": {
        "id": "zAzeHVYz_YqF"
      }
    },
    {
      "cell_type": "code",
      "source": [
        "def find_center_nth_bin(n):\n",
        "  nth_center=(n+0.5)*step_size\n",
        "  return nth_center"
      ],
      "metadata": {
        "id": "OI6eZFcO_XwH"
      },
      "execution_count": 77,
      "outputs": []
    },
    {
      "cell_type": "code",
      "source": [
        "epsilon = 1e-05"
      ],
      "metadata": {
        "id": "uzlwIU7-i0b3"
      },
      "execution_count": 78,
      "outputs": []
    },
    {
      "cell_type": "markdown",
      "source": [
        "### **Magnitude in the nth bin**"
      ],
      "metadata": {
        "id": "DVkXx_NlAm-_"
      }
    },
    {
      "cell_type": "code",
      "source": [
        "def magnitude_nth_bin(n,magnitude,angle):\n",
        "  center_nth=find_center_nth_bin(n)\n",
        "  Value_nth = magnitude * ((center_nth - angle) / step_size)\n",
        "  return Value_nth"
      ],
      "metadata": {
        "id": "zdQCNIot-1fB"
      },
      "execution_count": 79,
      "outputs": []
    },
    {
      "cell_type": "code",
      "source": [
        "def hog_features( img,nbins=9):\n",
        "  '''\n",
        "    Create the histogram of oriented gradients feature vector\n",
        "\n",
        "    Parameters\n",
        "    ----------\n",
        "    img: np.ndarray\n",
        "        The given image\n",
        "\n",
        "    nbins: int\n",
        "        The number of buckets (bins) in which to organise the oriented gradients\n",
        "\n",
        "    mag: np.ndarray\n",
        "        2-D Numpy array that contains the magnitudes of the oriented gradients\n",
        "\n",
        "    theta: np.ndarray\n",
        "        2-D Numpy array that contains the angles of the oriented gradients\n",
        "\n",
        "    Returns\n",
        "    -------\n",
        "    np.ndarray\n",
        "        The HoG features \n",
        "        [given input of 48x48 images and 9 bins should be 1296]\n",
        "    \n",
        "  '''\n",
        "  histogram_points=[]\n",
        "  theta,mag=get_oriented_gradients(img)\n",
        "  for i in range(0,48,8):\n",
        "    bin_list=[]\n",
        "    for j in range(0,48,8):\n",
        "      magnitudes=[[mag[x][y] for y in range(j,j+8)]for x in range(i,i+8)]\n",
        "      thetas=[[theta[x][y] for y in range(j,j+8)]for x in range(i,i+8)]\n",
        "      for k in range(len(magnitudes)):\n",
        "        for l in range(len(magnitudes[0])):\n",
        "          bins=[0 for _ in range(number_of_bins)]\n",
        "          value_n = find_nth_bin(thetas[k][l])\n",
        "          Vn= magnitude_nth_bin(value_n,magnitudes[k][l],thetas[k][l])\n",
        "          Vn_1 = mag[k][l] - Vn\n",
        "          bins[value_n]+=Vn\n",
        "          bins[value_n+1]+=Vn_1\n",
        "      bin_list.append(bins)\n",
        "    histogram_points.append(bin_list)\n",
        "  feature_vectors = []\n",
        "  for i in range(0, len(histogram_points)-2, 1):\n",
        "    temp = []\n",
        "    for j in range(0, len(histogram_points[0])-2, 1):\n",
        "      hist_values = [[histogram_points[row][col] for col in range(j, j+3)] for row in range(i, i+3)]\n",
        "      final_vector = []\n",
        "      for block in hist_values:\n",
        "        for l in block:\n",
        "          for m in l:\n",
        "            final_vector.append(m)\n",
        "      k = round(math.sqrt(sum([pow(x, 2) for x in final_vector])), 9)\n",
        "      final_vector = [round(x/20, 9) for x in final_vector]\n",
        "      temp.append(final_vector)\n",
        "    feature_vectors.append(temp)\n",
        "  return feature_vectors\n",
        "          \n",
        "\n",
        "  "
      ],
      "metadata": {
        "id": "WqiVNl9cf-Bc"
      },
      "execution_count": 89,
      "outputs": []
    },
    {
      "cell_type": "code",
      "source": [
        "features=np.array(hog_features( img))"
      ],
      "metadata": {
        "id": "8zKq46QDZp_L"
      },
      "execution_count": 91,
      "outputs": []
    },
    {
      "cell_type": "code",
      "source": [
        "size=len(features)*len(features[0])*len(features[0][0])\n",
        "print(\"no. of hog features are\",\" \",size)"
      ],
      "metadata": {
        "colab": {
          "base_uri": "https://localhost:8080/"
        },
        "id": "5XdwliXuw1gK",
        "outputId": "952906dd-8bee-430a-e914-6865848c2a07"
      },
      "execution_count": 92,
      "outputs": [
        {
          "output_type": "stream",
          "name": "stdout",
          "text": [
            "no. of hog features are   1296\n"
          ]
        }
      ]
    },
    {
      "cell_type": "code",
      "source": [
        "features.shape"
      ],
      "metadata": {
        "colab": {
          "base_uri": "https://localhost:8080/"
        },
        "id": "BxnpzcDDBDw5",
        "outputId": "c27e180d-72b2-4325-b34d-d4a0b4950100"
      },
      "execution_count": 93,
      "outputs": [
        {
          "output_type": "execute_result",
          "data": {
            "text/plain": [
              "(4, 4, 81)"
            ]
          },
          "metadata": {},
          "execution_count": 93
        }
      ]
    },
    {
      "cell_type": "markdown",
      "source": [
        "### Task 2: Using HoG with AdaBoost Classifier (1 points)\n",
        "The second task is to create an AdaBoost classifier that uses the HoG features to classify the given images into one of 7 classes representing different emotions.\n",
        "\n",
        "**Extra Credit:** Implement the AdaBoost Classifier from scratch, i.e. without using scikit-learn (1 points)"
      ],
      "metadata": {
        "id": "lOKW054fdR-W"
      }
    },
    {
      "cell_type": "code",
      "source": [
        "from sklearn.model_selection import train_test_split\n",
        "\n",
        "X_train, X_test, y_train, y_test = train_test_split(x_data, y_data, \n",
        "                                                    test_size=0.3, \n",
        "                                                    random_state=42)\n",
        "X_train.shape"
      ],
      "metadata": {
        "id": "ZxXs_jfzzqiM",
        "colab": {
          "base_uri": "https://localhost:8080/"
        },
        "outputId": "14fd287a-c97a-4948-e471-d24d2423cfcb"
      },
      "execution_count": 94,
      "outputs": [
        {
          "output_type": "execute_result",
          "data": {
            "text/plain": [
              "(25120, 48, 48)"
            ]
          },
          "metadata": {},
          "execution_count": 94
        }
      ]
    },
    {
      "cell_type": "code",
      "source": [
        "X_train = np.array([np.array(hog_features(im)) for im in X_train])\n",
        "X_test = np.array([np.array(hog_features(im)) for im in X_test])"
      ],
      "metadata": {
        "id": "0YJw_IZuds6P"
      },
      "execution_count": 95,
      "outputs": []
    },
    {
      "cell_type": "code",
      "source": [
        "print(X_test.shape)"
      ],
      "metadata": {
        "colab": {
          "base_uri": "https://localhost:8080/"
        },
        "id": "ysmHfpuXEUcz",
        "outputId": "4e98ee5b-84fb-413e-8e16-501e6d33b59f"
      },
      "execution_count": 96,
      "outputs": [
        {
          "output_type": "stream",
          "name": "stdout",
          "text": [
            "(10767, 4, 4, 81)\n"
          ]
        }
      ]
    },
    {
      "cell_type": "code",
      "source": [
        "print(X_train.shape)"
      ],
      "metadata": {
        "colab": {
          "base_uri": "https://localhost:8080/"
        },
        "id": "b21zzG-Nd15Z",
        "outputId": "b5da5b04-fcf7-4c69-b70f-5c3e19ae2950"
      },
      "execution_count": 97,
      "outputs": [
        {
          "output_type": "stream",
          "name": "stdout",
          "text": [
            "(25120, 4, 4, 81)\n"
          ]
        }
      ]
    },
    {
      "cell_type": "code",
      "source": [
        "X_train= X_train.reshape((25120,4*4*81))"
      ],
      "metadata": {
        "id": "ukRaufEkDURP"
      },
      "execution_count": 98,
      "outputs": []
    },
    {
      "cell_type": "code",
      "source": [
        "X_test= X_test.reshape((10767,4*4*81))"
      ],
      "metadata": {
        "id": "E8AUYXOBD3y_"
      },
      "execution_count": 99,
      "outputs": []
    },
    {
      "cell_type": "code",
      "source": [
        "# In case you are attempting the extra-credit,\n",
        "# use this class as reference for the bare-minimum functions\n",
        "# you need to build\n",
        "\n",
        "class AdaBoost:\n",
        "\n",
        "  '''\n",
        "    AdaBoost Classifier\n",
        "  '''\n",
        "  def __init__(self):\n",
        "    pass\n",
        "  \n",
        "  def fit(self):\n",
        "    pass\n",
        "\n",
        "  def predict(self):\n",
        "    pass"
      ],
      "metadata": {
        "id": "o8SnF65cgk8j"
      },
      "execution_count": null,
      "outputs": []
    },
    {
      "cell_type": "code",
      "source": [
        "# TODO\n",
        "clf = AdaBoost()\n",
        "clf.fit(X_train, y_train)"
      ],
      "metadata": {
        "id": "kUuVDdrLd9YK"
      },
      "execution_count": null,
      "outputs": []
    },
    {
      "cell_type": "code",
      "source": [
        "from sklearn.ensemble import AdaBoostClassifier as ada"
      ],
      "metadata": {
        "id": "ROm1kldvAZW6"
      },
      "execution_count": 100,
      "outputs": []
    },
    {
      "cell_type": "code",
      "source": [
        "# TODO\n",
        "clf = ada()\n",
        "clf.fit(X_train, y_train)"
      ],
      "metadata": {
        "colab": {
          "base_uri": "https://localhost:8080/"
        },
        "id": "O12yzD0gAcnj",
        "outputId": "811ba2d0-e4d8-4703-c3a5-1a8ffca047c6"
      },
      "execution_count": 101,
      "outputs": [
        {
          "output_type": "execute_result",
          "data": {
            "text/plain": [
              "AdaBoostClassifier()"
            ]
          },
          "metadata": {},
          "execution_count": 101
        }
      ]
    },
    {
      "cell_type": "code",
      "source": [
        "from sklearn.metrics import classification_report\n",
        "\n",
        "y_pred_train = clf.predict(X_train)\n",
        "print(classification_report(y_train, y_pred_train))"
      ],
      "metadata": {
        "id": "WNf7nfB5eTw6",
        "colab": {
          "base_uri": "https://localhost:8080/"
        },
        "outputId": "c6aa8d92-5e7c-4d14-8f2b-358573c0c950"
      },
      "execution_count": 102,
      "outputs": [
        {
          "output_type": "stream",
          "name": "stdout",
          "text": [
            "              precision    recall  f1-score   support\n",
            "\n",
            "           0       0.18      0.01      0.02      3486\n",
            "           1       0.04      0.01      0.01       380\n",
            "           2       0.21      0.01      0.02      3555\n",
            "           3       0.27      0.74      0.40      6275\n",
            "           4       0.24      0.21      0.22      4284\n",
            "           5       0.26      0.15      0.19      2812\n",
            "           6       0.24      0.12      0.16      4328\n",
            "\n",
            "    accuracy                           0.26     25120\n",
            "   macro avg       0.21      0.18      0.15     25120\n",
            "weighted avg       0.23      0.26      0.19     25120\n",
            "\n"
          ]
        }
      ]
    },
    {
      "cell_type": "code",
      "source": [
        "y_pred_test = clf.predict(X_test)\n",
        "print(classification_report(y_test, y_pred_test))"
      ],
      "metadata": {
        "id": "SgKrrVIyent3",
        "colab": {
          "base_uri": "https://localhost:8080/"
        },
        "outputId": "a05e6728-2dd1-4d1d-8264-02ee1fe82bde"
      },
      "execution_count": 103,
      "outputs": [
        {
          "output_type": "stream",
          "name": "stdout",
          "text": [
            "              precision    recall  f1-score   support\n",
            "\n",
            "           0       0.16      0.01      0.02      1467\n",
            "           1       0.04      0.01      0.01       167\n",
            "           2       0.23      0.01      0.02      1566\n",
            "           3       0.28      0.75      0.41      2714\n",
            "           4       0.22      0.20      0.21      1793\n",
            "           5       0.24      0.14      0.18      1190\n",
            "           6       0.23      0.12      0.16      1870\n",
            "\n",
            "    accuracy                           0.26     10767\n",
            "   macro avg       0.20      0.18      0.14     10767\n",
            "weighted avg       0.23      0.26      0.19     10767\n",
            "\n"
          ]
        }
      ]
    },
    {
      "cell_type": "code",
      "source": [
        ""
      ],
      "metadata": {
        "id": "cgfHxamzoly-"
      },
      "execution_count": null,
      "outputs": []
    }
  ]
}