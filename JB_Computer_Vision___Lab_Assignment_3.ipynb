{
  "nbformat": 4,
  "nbformat_minor": 0,
  "metadata": {
    "colab": {
      "name": "JB_Computer Vision _ Lab Assignment 3.ipynb",
      "provenance": []
    },
    "kernelspec": {
      "name": "python3",
      "display_name": "Python 3"
    },
    "language_info": {
      "name": "python"
    },
    "accelerator": "GPU"
  },
  "cells": [
    {
      "cell_type": "markdown",
      "source": [
        "# Lab Assignment 3\n",
        "\n",
        "**Computer Vision** - Term 5, 2022\n",
        "\n",
        "Instructor: Dr. Saumya Jetly <br>\n",
        "TA: Ribhu Lahiri\n",
        "\n",
        "*Deadline: Friday, 18 March 2022 11:59 pm* \n",
        "\n",
        "Submission form link: https://forms.gle/aLT9AqtasQemhWMN9\n",
        "\n",
        "Total points: 5 (with possible extra credit)\n"
      ],
      "metadata": {
        "id": "wMpd_g_2supN"
      }
    },
    {
      "cell_type": "markdown",
      "source": [
        "### Before Starting\n",
        "\n",
        "Please download the FER-2013 dataset here: https://drive.google.com/file/d/1GTX0XYKtyOo9VADHL_AjLcp59si1aFkZ/view?usp=sharing\n",
        "\n",
        "You will need it for the tasks that follow."
      ],
      "metadata": {
        "id": "vw1BAgfama5b"
      }
    },
    {
      "cell_type": "code",
      "source": [
        "from google.colab import drive\n",
        "drive.mount('/content/gdrive')"
      ],
      "metadata": {
        "colab": {
          "base_uri": "https://localhost:8080/"
        },
        "id": "iBpUC9Acujgq",
        "outputId": "adb6b5a9-2c08-41d1-aa75-e32dcf774273"
      },
      "execution_count": 2,
      "outputs": [
        {
          "output_type": "stream",
          "name": "stdout",
          "text": [
            "Mounted at /content/gdrive\n"
          ]
        }
      ]
    },
    {
      "cell_type": "code",
      "source": [
        "# ! unzip gdrive/MyDrive/fer2013.zip"
      ],
      "metadata": {
        "id": "GAllzAi2ImMb"
      },
      "execution_count": 3,
      "outputs": []
    },
    {
      "cell_type": "code",
      "execution_count": 4,
      "metadata": {
        "id": "fJNYVdxmsm8F"
      },
      "outputs": [],
      "source": [
        "import math\n",
        "import numpy as np\n",
        "import matplotlib.pyplot as plt\n",
        "import pandas as pd\n",
        "from skimage import io\n",
        "from skimage import color\n",
        "from skimage.transform import resize\n",
        "from skimage.feature import hog"
      ]
    },
    {
      "cell_type": "code",
      "source": [
        "# Reading in the dataset\n",
        "df = pd.read_csv('gdrive/MyDrive/fer2013.csv')\n",
        "df.head()"
      ],
      "metadata": {
        "id": "5e5hHSSHphHU",
        "colab": {
          "base_uri": "https://localhost:8080/",
          "height": 206
        },
        "outputId": "5ca5de5d-91cf-445b-bd35-accc08ea9107"
      },
      "execution_count": 5,
      "outputs": [
        {
          "output_type": "execute_result",
          "data": {
            "text/plain": [
              "   emotion                                             pixels     Usage\n",
              "0        0  70 80 82 72 58 58 60 63 54 58 60 48 89 115 121...  Training\n",
              "1        0  151 150 147 155 148 133 111 140 170 174 182 15...  Training\n",
              "2        2  231 212 156 164 174 138 161 173 182 200 106 38...  Training\n",
              "3        4  24 32 36 30 32 23 19 20 30 41 21 22 32 34 21 1...  Training\n",
              "4        6  4 0 0 0 0 0 0 0 0 0 0 0 3 15 23 28 48 50 58 84...  Training"
            ],
            "text/html": [
              "\n",
              "  <div id=\"df-262c87ea-8ea9-46eb-9438-834732339956\">\n",
              "    <div class=\"colab-df-container\">\n",
              "      <div>\n",
              "<style scoped>\n",
              "    .dataframe tbody tr th:only-of-type {\n",
              "        vertical-align: middle;\n",
              "    }\n",
              "\n",
              "    .dataframe tbody tr th {\n",
              "        vertical-align: top;\n",
              "    }\n",
              "\n",
              "    .dataframe thead th {\n",
              "        text-align: right;\n",
              "    }\n",
              "</style>\n",
              "<table border=\"1\" class=\"dataframe\">\n",
              "  <thead>\n",
              "    <tr style=\"text-align: right;\">\n",
              "      <th></th>\n",
              "      <th>emotion</th>\n",
              "      <th>pixels</th>\n",
              "      <th>Usage</th>\n",
              "    </tr>\n",
              "  </thead>\n",
              "  <tbody>\n",
              "    <tr>\n",
              "      <th>0</th>\n",
              "      <td>0</td>\n",
              "      <td>70 80 82 72 58 58 60 63 54 58 60 48 89 115 121...</td>\n",
              "      <td>Training</td>\n",
              "    </tr>\n",
              "    <tr>\n",
              "      <th>1</th>\n",
              "      <td>0</td>\n",
              "      <td>151 150 147 155 148 133 111 140 170 174 182 15...</td>\n",
              "      <td>Training</td>\n",
              "    </tr>\n",
              "    <tr>\n",
              "      <th>2</th>\n",
              "      <td>2</td>\n",
              "      <td>231 212 156 164 174 138 161 173 182 200 106 38...</td>\n",
              "      <td>Training</td>\n",
              "    </tr>\n",
              "    <tr>\n",
              "      <th>3</th>\n",
              "      <td>4</td>\n",
              "      <td>24 32 36 30 32 23 19 20 30 41 21 22 32 34 21 1...</td>\n",
              "      <td>Training</td>\n",
              "    </tr>\n",
              "    <tr>\n",
              "      <th>4</th>\n",
              "      <td>6</td>\n",
              "      <td>4 0 0 0 0 0 0 0 0 0 0 0 3 15 23 28 48 50 58 84...</td>\n",
              "      <td>Training</td>\n",
              "    </tr>\n",
              "  </tbody>\n",
              "</table>\n",
              "</div>\n",
              "      <button class=\"colab-df-convert\" onclick=\"convertToInteractive('df-262c87ea-8ea9-46eb-9438-834732339956')\"\n",
              "              title=\"Convert this dataframe to an interactive table.\"\n",
              "              style=\"display:none;\">\n",
              "        \n",
              "  <svg xmlns=\"http://www.w3.org/2000/svg\" height=\"24px\"viewBox=\"0 0 24 24\"\n",
              "       width=\"24px\">\n",
              "    <path d=\"M0 0h24v24H0V0z\" fill=\"none\"/>\n",
              "    <path d=\"M18.56 5.44l.94 2.06.94-2.06 2.06-.94-2.06-.94-.94-2.06-.94 2.06-2.06.94zm-11 1L8.5 8.5l.94-2.06 2.06-.94-2.06-.94L8.5 2.5l-.94 2.06-2.06.94zm10 10l.94 2.06.94-2.06 2.06-.94-2.06-.94-.94-2.06-.94 2.06-2.06.94z\"/><path d=\"M17.41 7.96l-1.37-1.37c-.4-.4-.92-.59-1.43-.59-.52 0-1.04.2-1.43.59L10.3 9.45l-7.72 7.72c-.78.78-.78 2.05 0 2.83L4 21.41c.39.39.9.59 1.41.59.51 0 1.02-.2 1.41-.59l7.78-7.78 2.81-2.81c.8-.78.8-2.07 0-2.86zM5.41 20L4 18.59l7.72-7.72 1.47 1.35L5.41 20z\"/>\n",
              "  </svg>\n",
              "      </button>\n",
              "      \n",
              "  <style>\n",
              "    .colab-df-container {\n",
              "      display:flex;\n",
              "      flex-wrap:wrap;\n",
              "      gap: 12px;\n",
              "    }\n",
              "\n",
              "    .colab-df-convert {\n",
              "      background-color: #E8F0FE;\n",
              "      border: none;\n",
              "      border-radius: 50%;\n",
              "      cursor: pointer;\n",
              "      display: none;\n",
              "      fill: #1967D2;\n",
              "      height: 32px;\n",
              "      padding: 0 0 0 0;\n",
              "      width: 32px;\n",
              "    }\n",
              "\n",
              "    .colab-df-convert:hover {\n",
              "      background-color: #E2EBFA;\n",
              "      box-shadow: 0px 1px 2px rgba(60, 64, 67, 0.3), 0px 1px 3px 1px rgba(60, 64, 67, 0.15);\n",
              "      fill: #174EA6;\n",
              "    }\n",
              "\n",
              "    [theme=dark] .colab-df-convert {\n",
              "      background-color: #3B4455;\n",
              "      fill: #D2E3FC;\n",
              "    }\n",
              "\n",
              "    [theme=dark] .colab-df-convert:hover {\n",
              "      background-color: #434B5C;\n",
              "      box-shadow: 0px 1px 3px 1px rgba(0, 0, 0, 0.15);\n",
              "      filter: drop-shadow(0px 1px 2px rgba(0, 0, 0, 0.3));\n",
              "      fill: #FFFFFF;\n",
              "    }\n",
              "  </style>\n",
              "\n",
              "      <script>\n",
              "        const buttonEl =\n",
              "          document.querySelector('#df-262c87ea-8ea9-46eb-9438-834732339956 button.colab-df-convert');\n",
              "        buttonEl.style.display =\n",
              "          google.colab.kernel.accessAllowed ? 'block' : 'none';\n",
              "\n",
              "        async function convertToInteractive(key) {\n",
              "          const element = document.querySelector('#df-262c87ea-8ea9-46eb-9438-834732339956');\n",
              "          const dataTable =\n",
              "            await google.colab.kernel.invokeFunction('convertToInteractive',\n",
              "                                                     [key], {});\n",
              "          if (!dataTable) return;\n",
              "\n",
              "          const docLinkHtml = 'Like what you see? Visit the ' +\n",
              "            '<a target=\"_blank\" href=https://colab.research.google.com/notebooks/data_table.ipynb>data table notebook</a>'\n",
              "            + ' to learn more about interactive tables.';\n",
              "          element.innerHTML = '';\n",
              "          dataTable['output_type'] = 'display_data';\n",
              "          await google.colab.output.renderOutput(dataTable, element);\n",
              "          const docLink = document.createElement('div');\n",
              "          docLink.innerHTML = docLinkHtml;\n",
              "          element.appendChild(docLink);\n",
              "        }\n",
              "      </script>\n",
              "    </div>\n",
              "  </div>\n",
              "  "
            ]
          },
          "metadata": {},
          "execution_count": 5
        }
      ]
    },
    {
      "cell_type": "code",
      "source": [
        "# Extract relevant data\n",
        "x_data = pd.Series(df.pixels)\n",
        "y_data = pd.Series(df.emotion)\n",
        "x_data = np.array(list(map(str.split, x_data)), np.float32)\n",
        "x_data/=255 # Normalizing"
      ],
      "metadata": {
        "id": "VFU8YbxAw0pB"
      },
      "execution_count": 6,
      "outputs": []
    },
    {
      "cell_type": "code",
      "source": [
        "# Reshape into 48x48 images\n",
        "x_data = x_data.reshape(-1, 48, 48)\n",
        "x_data.shape"
      ],
      "metadata": {
        "colab": {
          "base_uri": "https://localhost:8080/"
        },
        "id": "m-cBru5_yJc-",
        "outputId": "33615092-f59d-4db4-a0d8-7bcc357f8507"
      },
      "execution_count": 7,
      "outputs": [
        {
          "output_type": "execute_result",
          "data": {
            "text/plain": [
              "(35887, 48, 48)"
            ]
          },
          "metadata": {},
          "execution_count": 7
        }
      ]
    },
    {
      "cell_type": "markdown",
      "source": [
        "### Task 1: Creating histogram of Oriented Gradients (4 points)\n",
        "The first task is to create the histogram of oriented gradients feature descriptor. There are two steps to it, the first is to create the oriented gradients from a given image which returns the magnitude and angle matrices. The next step then, is to use those matrices to create the histogram features.\n",
        "\n",
        "You can refer to this blog as discussed in the lab session: https://iq.opengenus.org/object-detection-with-histogram-of-oriented-gradients-hog/"
      ],
      "metadata": {
        "id": "VqkUjbYYIj2j"
      }
    },
    {
      "cell_type": "markdown",
      "source": [
        "**Implement the `get_oriented_gradients` function** *(2 points)*\n",
        "\n",
        "Use any sample image from the dataset to test out your function"
      ],
      "metadata": {
        "id": "KabkjpN5w1Fr"
      }
    },
    {
      "cell_type": "code",
      "source": [
        "# Read in any image from the dataset\n",
        "img = x_data[2]\n",
        "plt.figure(figsize=(15, 8))\n",
        "plt.imshow(img, cmap=\"gray\")\n",
        "plt.axis(\"off\")\n",
        "plt.show()"
      ],
      "metadata": {
        "id": "cNWIy4JpJ10B",
        "colab": {
          "base_uri": "https://localhost:8080/",
          "height": 466
        },
        "outputId": "35e4071a-83ad-4c07-8572-8679c1777729"
      },
      "execution_count": 8,
      "outputs": [
        {
          "output_type": "display_data",
          "data": {
            "text/plain": [
              "<Figure size 1080x576 with 1 Axes>"
            ],
            "image/png": "[encoded data removed]"
          },
          "metadata": {
            "needs_background": "light"
          }
        }
      ]
    },
    {
      "cell_type": "code",
      "source": [
        "print(img.shape)\n",
        "print(img)\n",
        "padded_img = np.zeros((50,50))\n",
        "padded_img[1:1+img.shape[0],1:1+img.shape[1]] = img\n"
      ],
      "metadata": {
        "colab": {
          "base_uri": "https://localhost:8080/"
        },
        "id": "7PAMnnJw_xgo",
        "outputId": "e92fc4e4-0bb6-4f2b-eb31-092adf637ead"
      },
      "execution_count": 9,
      "outputs": [
        {
          "output_type": "stream",
          "name": "stdout",
          "text": [
            "(48, 48)\n",
            "[[0.90588236 0.83137256 0.6117647  ... 0.17254902 0.10588235 0.0627451 ]\n",
            " [0.8980392  0.6862745  0.5803922  ... 0.10588235 0.13725491 0.10588235]\n",
            " [0.8392157  0.6117647  0.6156863  ... 0.10980392 0.08627451 0.10980392]\n",
            " ...\n",
            " [0.94509804 0.9607843  0.98039216 ... 0.22352941 0.39607844 0.57254905]\n",
            " [0.9647059  0.98039216 0.9882353  ... 0.30588236 0.4117647  0.63529414]\n",
            " [0.98039216 0.9843137  0.98039216 ... 0.34509805 0.43137255 0.59607846]]\n"
          ]
        }
      ]
    },
    {
      "cell_type": "code",
      "source": [
        "img = np.array(img)\n",
        "def get_oriented_gradients(img):\n",
        "  '''\n",
        "    Returns the magnitude and angles of the oriented gradients\n",
        "    from the given image\n",
        "\n",
        "    Parameters\n",
        "    ----------\n",
        "    img: np.ndarray\n",
        "        The given image\n",
        "\n",
        "    Returns\n",
        "    -------\n",
        "    mag: np.ndarray\n",
        "        2-D Numpy array that contains the magnitudes of the oriented gradients\n",
        "\n",
        "    theta: np.ndarray\n",
        "        2-D Numpy array that contains the angles of the oriented gradients\n",
        "  '''\n",
        "  \n",
        "  m,n = img.shape[0],img.shape[1]\n",
        "\n",
        "  padded_img = np.zeros((m+2,n+2))\n",
        "  padded_img[1:1+img.shape[0],1:1+img.shape[1]] = img\n",
        "  mag, theta = np.zeros((m,n)), np.zeros((m,n))\n",
        "  for i in range(1,m+1):\n",
        "    for j in range(1,n+1):\n",
        "      g_x = padded_img[i-1][j] - padded_img[i+1][j]\n",
        "      g_y = padded_img[i][j+1] - padded_img[i][j-1]\n",
        "      if g_x == 0.0:\n",
        "        g_theta = 90\n",
        "      g_mag = np.sqrt(g_x ** 2 + g_y ** 2)\n",
        "      g_theta = (180/math.pi) * (np.arctan(g_y/g_x)%math.pi)\n",
        "      if math.isnan(g_theta):\n",
        "        g_theta = 0\n",
        "      mag[i-1][j-1] = g_mag\n",
        "      theta[i-1][j-1] = g_theta\n",
        "       \n",
        "  return mag, theta"
      ],
      "metadata": {
        "id": "cdkGQ2YXsreO"
      },
      "execution_count": 10,
      "outputs": []
    },
    {
      "cell_type": "code",
      "source": [
        "mag, theta = get_oriented_gradients(img)"
      ],
      "metadata": {
        "id": "rGvGXXnssw_R",
        "colab": {
          "base_uri": "https://localhost:8080/"
        },
        "outputId": "8307bc71-788a-45f4-8c1d-37e2e1e5f25a"
      },
      "execution_count": 11,
      "outputs": [
        {
          "output_type": "stream",
          "name": "stderr",
          "text": [
            "/usr/local/lib/python3.7/dist-packages/ipykernel_launcher.py:33: RuntimeWarning: divide by zero encountered in double_scalars\n",
            "/usr/local/lib/python3.7/dist-packages/ipykernel_launcher.py:33: RuntimeWarning: invalid value encountered in double_scalars\n"
          ]
        }
      ]
    },
    {
      "cell_type": "code",
      "source": [
        "plt.figure(figsize=(15, 8))\n",
        "plt.imshow(mag, cmap=\"gray\")\n",
        "plt.axis(\"off\")\n",
        "plt.show()"
      ],
      "metadata": {
        "id": "GNfQNs-Xs2bo",
        "colab": {
          "base_uri": "https://localhost:8080/",
          "height": 466
        },
        "outputId": "2fd8c6ce-af78-4883-e494-3ca4d61a6072"
      },
      "execution_count": 12,
      "outputs": [
        {
          "output_type": "display_data",
          "data": {
            "text/plain": [
              "<Figure size 1080x576 with 1 Axes>"
            ],
            "image/png": "[encoded data removed]"
          },
          "metadata": {
            "needs_background": "light"
          }
        }
      ]
    },
    {
      "cell_type": "code",
      "source": [
        "plt.figure(figsize=(15, 8))\n",
        "plt.imshow(theta, cmap=\"gray\")\n",
        "plt.axis(\"off\")\n",
        "plt.show()"
      ],
      "metadata": {
        "id": "euXA42KBs5M0",
        "colab": {
          "base_uri": "https://localhost:8080/",
          "height": 466
        },
        "outputId": "58a4257d-442c-4332-ff76-44aa5795d114"
      },
      "execution_count": 13,
      "outputs": [
        {
          "output_type": "display_data",
          "data": {
            "text/plain": [
              "<Figure size 1080x576 with 1 Axes>"
            ],
            "image/png": "[encoded data removed]"
          },
          "metadata": {
            "needs_background": "light"
          }
        }
      ]
    },
    {
      "cell_type": "code",
      "source": [
        "m_viz = (mag > 0.5).astype(float)\n",
        "plt.figure(figsize=(15, 8))\n",
        "plt.imshow(m_viz, cmap=\"gray\")\n",
        "plt.axis(\"off\")\n",
        "plt.show()"
      ],
      "metadata": {
        "id": "SgNs85SB03kb",
        "colab": {
          "base_uri": "https://localhost:8080/",
          "height": 466
        },
        "outputId": "8842a00e-e46b-4d29-ec3a-7edb21251ea4"
      },
      "execution_count": 14,
      "outputs": [
        {
          "output_type": "display_data",
          "data": {
            "text/plain": [
              "<Figure size 1080x576 with 1 Axes>"
            ],
            "image/png": "[encoded data removed]"
          },
          "metadata": {
            "needs_background": "light"
          }
        }
      ]
    },
    {
      "cell_type": "markdown",
      "source": [
        "**Implement the `hog_features` function** *(2 points)*\n",
        "\n",
        "Use the image, magnitudes, and angles of oriented gradients to bin them and create the HoG features to be used by our classifier\n",
        "\n",
        "NOTE: While I have set the default value of number of bins as 9. Feel free to experiment and observe the effects of changing it on the downstream task"
      ],
      "metadata": {
        "id": "6RZqycoEmypz"
      }
    },
    {
      "cell_type": "code",
      "source": [
        "def create_hist(cell_mag,cell_theta,B = 9):\n",
        "  '''\n",
        "  Create a histogram of 9 bins from gradient magnitude and gradient orientation matrices.\n",
        "  '''\n",
        "  hist = np.zeros(9)\n",
        "  m = cell_mag.shape[0]\n",
        "  w = 180/B\n",
        "  for i in range(m):\n",
        "    for j in range(m):\n",
        "      if cell_theta[i][j]%2 == 0 and cell_theta[i][j]%10 == 0:\n",
        "        ind = int(cell_theta[i][j]//w)\n",
        "        hist[ind] = cell_mag[i][j]\n",
        "      elif cell_theta[i][j] > 160:\n",
        "        ind1,ind2 = 0,8\n",
        "        v1 = ((cell_theta[i][j]-160)/w) * cell_mag[i][j]\n",
        "        hist[ind1] += v1\n",
        "        hist[ind2] += cell_mag[i][j] - v1\n",
        "      else:\n",
        "        ind1 = int(cell_theta[i][j]//w)\n",
        "        ind2 = ind1 + 1\n",
        "        v1 = cell_mag[i][j]*((ind2*w - cell_theta[i][j])/w)\n",
        "        hist[ind1] += v1\n",
        "        hist[ind2] += cell_mag[i][j] - v1\n",
        "    return hist\n",
        "\n",
        "\n",
        "def hog_features(img,nbins=9):\n",
        "  '''\n",
        "    Create the histogram of oriented gradients feature vector\n",
        "\n",
        "    Parameters\n",
        "    ----------\n",
        "    img: np.ndarray\n",
        "        The given image\n",
        "\n",
        "    nbins: int\n",
        "        The number of buckets (bins) in which to organise the oriented gradients\n",
        "\n",
        "    mag: np.ndarray\n",
        "        2-D Numpy array that contains the magnitudes of the oriented gradients\n",
        "\n",
        "    theta: np.ndarray\n",
        "        2-D Numpy array that contains the angles of the oriented gradients\n",
        "\n",
        "    Returns\n",
        "    -------\n",
        "    np.ndarray\n",
        "        The HoG features \n",
        "        [given input of 48x48 images and 9 bins should be 1296]\n",
        "    \n",
        "  '''\n",
        "  cell_hg = []\n",
        "  mag, theta = get_oriented_gradients(img)\n",
        "\n",
        "  # Creating a total of 36 histograms of 9 bins\n",
        "  for i in range(0,img.shape[0],8):\n",
        "    for j in range(0,img.shape[1],8):\n",
        "      cell_mag = mag[i:i+8,j:j+8] \n",
        "      cell_theta = theta[i:i+8,j:j+8]\n",
        "      hg = create_hist(cell_mag,cell_theta)\n",
        "      cell_hg.append(hg)\n",
        "  cell_hg = np.array(cell_hg)\n",
        "  cell_hg = np.reshape(cell_hg,(6,6,9))\n",
        "  feature_descriptor = []\n",
        "\n",
        "  # Creating blocks of size 16x16\n",
        "  for i in range(0,5):\n",
        "    for j in range(0,5):\n",
        "      block = cell_hg[i:i+2,j:j+2]\n",
        "      block_vector = []\n",
        "      for x in range(2):\n",
        "        for y in range(2):\n",
        "          cell_vec = block[x][y]\n",
        "          block_vector.extend(block[x][y])\n",
        "      # Normalising each block vector\n",
        "      if np.linalg.norm(block_vector, ord=1)!=0:\n",
        "        block_vector = block_vector/np.linalg.norm(block_vector, ord=1)\n",
        "      feature_descriptor.extend(block_vector)\n",
        "  return feature_descriptor \n",
        "\n",
        "\n",
        "\n",
        "\n"
      ],
      "metadata": {
        "id": "WqiVNl9cf-Bc"
      },
      "execution_count": 15,
      "outputs": []
    },
    {
      "cell_type": "code",
      "source": [
        "print(math.floor(11/20-1/2)%9)"
      ],
      "metadata": {
        "colab": {
          "base_uri": "https://localhost:8080/"
        },
        "id": "mu_zSUg2iIze",
        "outputId": "20e97157-88cc-417c-92e1-7abcd64b4030"
      },
      "execution_count": 16,
      "outputs": [
        {
          "output_type": "stream",
          "name": "stdout",
          "text": [
            "0\n"
          ]
        }
      ]
    },
    {
      "cell_type": "markdown",
      "source": [
        "### Task 2: Using HoG with AdaBoost Classifier (1 points)\n",
        "The second task is to create an AdaBoost classifier that uses the HoG features to classify the given images into one of 7 classes representing different emotions.\n",
        "\n",
        "**Extra Credit:** Implement the AdaBoost Classifier from scratch, i.e. without using scikit-learn (1 points)"
      ],
      "metadata": {
        "id": "lOKW054fdR-W"
      }
    },
    {
      "cell_type": "code",
      "source": [
        "from sklearn.model_selection import train_test_split\n",
        "\n",
        "X_train, X_test, y_train, y_test = train_test_split(x_data, y_data, \n",
        "                                                    test_size=0.3, \n",
        "                                                    random_state=42)\n",
        "X_train.shape"
      ],
      "metadata": {
        "id": "ZxXs_jfzzqiM",
        "colab": {
          "base_uri": "https://localhost:8080/"
        },
        "outputId": "79b04e60-fd68-4412-8959-33c211ab0450"
      },
      "execution_count": 17,
      "outputs": [
        {
          "output_type": "execute_result",
          "data": {
            "text/plain": [
              "(25120, 48, 48)"
            ]
          },
          "metadata": {},
          "execution_count": 17
        }
      ]
    },
    {
      "cell_type": "code",
      "source": [
        "res = hog_features(X_train[411])\n"
      ],
      "metadata": {
        "id": "RrPYZE9mWqfv",
        "colab": {
          "base_uri": "https://localhost:8080/"
        },
        "outputId": "a143f6aa-9301-4ff5-8bff-64b43e6a3e3e"
      },
      "execution_count": 18,
      "outputs": [
        {
          "output_type": "stream",
          "name": "stderr",
          "text": [
            "/usr/local/lib/python3.7/dist-packages/ipykernel_launcher.py:33: RuntimeWarning: invalid value encountered in double_scalars\n",
            "/usr/local/lib/python3.7/dist-packages/ipykernel_launcher.py:33: RuntimeWarning: divide by zero encountered in double_scalars\n"
          ]
        }
      ]
    },
    {
      "cell_type": "code",
      "source": [
        "X_train = np.array([hog_features(im) for im in X_train])\n",
        "X_test = np.array([hog_features(im) for im in X_test])"
      ],
      "metadata": {
        "id": "0YJw_IZuds6P",
        "colab": {
          "base_uri": "https://localhost:8080/"
        },
        "outputId": "0fdc5eed-9188-406a-f626-51cb5a7d3808"
      },
      "execution_count": 19,
      "outputs": [
        {
          "output_type": "stream",
          "name": "stderr",
          "text": [
            "/usr/local/lib/python3.7/dist-packages/ipykernel_launcher.py:33: RuntimeWarning: divide by zero encountered in double_scalars\n",
            "/usr/local/lib/python3.7/dist-packages/ipykernel_launcher.py:33: RuntimeWarning: invalid value encountered in double_scalars\n"
          ]
        }
      ]
    },
    {
      "cell_type": "code",
      "source": [
        "print(X_train.shape)"
      ],
      "metadata": {
        "id": "b21zzG-Nd15Z",
        "colab": {
          "base_uri": "https://localhost:8080/"
        },
        "outputId": "c3f64d6a-7869-42be-d5f0-416e6faa47ae"
      },
      "execution_count": 20,
      "outputs": [
        {
          "output_type": "stream",
          "name": "stdout",
          "text": [
            "(25120, 900)\n"
          ]
        }
      ]
    },
    {
      "cell_type": "code",
      "source": [
        "print(X_train.shape)"
      ],
      "metadata": {
        "colab": {
          "base_uri": "https://localhost:8080/"
        },
        "id": "tlBjxIvaC--9",
        "outputId": "9f2f6866-4f28-49ba-8bb9-d8260b40de9d"
      },
      "execution_count": 21,
      "outputs": [
        {
          "output_type": "stream",
          "name": "stdout",
          "text": [
            "(25120, 900)\n"
          ]
        }
      ]
    },
    {
      "cell_type": "code",
      "source": [
        "# In case you are attempting the extra-credit,\n",
        "# use this class as reference for the bare-minimum functions\n",
        "# you need to build\n",
        "\n",
        "class AdaBoost:\n",
        "\n",
        "  '''\n",
        "    AdaBoost Classifier\n",
        "  '''\n",
        "  def __init__(self):\n",
        "    pass\n",
        "  \n",
        "  def fit(self):\n",
        "    pass\n",
        "\n",
        "  def predict(self):\n",
        "    pass"
      ],
      "metadata": {
        "id": "o8SnF65cgk8j"
      },
      "execution_count": 22,
      "outputs": []
    },
    {
      "cell_type": "code",
      "source": [
        "# TODO\n",
        "np.random.seed(42)\n",
        "from sklearn.ensemble import AdaBoostClassifier\n",
        "clf = AdaBoostClassifier(n_estimators=200, random_state=0)\n",
        "clf.fit(X_train, y_train)"
      ],
      "metadata": {
        "id": "kUuVDdrLd9YK",
        "colab": {
          "base_uri": "https://localhost:8080/"
        },
        "outputId": "5cce0f2d-87a5-4e2f-ef9f-4cd3d11e928e"
      },
      "execution_count": 23,
      "outputs": [
        {
          "output_type": "execute_result",
          "data": {
            "text/plain": [
              "AdaBoostClassifier(n_estimators=200, random_state=0)"
            ]
          },
          "metadata": {},
          "execution_count": 23
        }
      ]
    },
    {
      "cell_type": "code",
      "source": [
        "from sklearn.metrics import classification_report\n",
        "\n",
        "y_pred_train = clf.predict(X_train)\n",
        "print(classification_report(y_train, y_pred_train))"
      ],
      "metadata": {
        "id": "WNf7nfB5eTw6",
        "colab": {
          "base_uri": "https://localhost:8080/"
        },
        "outputId": "078e8c87-5ae2-4c80-b324-9fe635b69936"
      },
      "execution_count": 24,
      "outputs": [
        {
          "output_type": "stream",
          "name": "stdout",
          "text": [
            "              precision    recall  f1-score   support\n",
            "\n",
            "           0       0.26      0.13      0.18      3486\n",
            "           1       0.18      0.15      0.16       380\n",
            "           2       0.25      0.12      0.16      3555\n",
            "           3       0.40      0.65      0.49      6275\n",
            "           4       0.27      0.20      0.23      4284\n",
            "           5       0.33      0.35      0.34      2812\n",
            "           6       0.30      0.33      0.32      4328\n",
            "\n",
            "    accuracy                           0.33     25120\n",
            "   macro avg       0.28      0.28      0.27     25120\n",
            "weighted avg       0.31      0.33      0.30     25120\n",
            "\n"
          ]
        }
      ]
    },
    {
      "cell_type": "code",
      "source": [
        "y_pred_test = clf.predict(X_test)\n",
        "print(classification_report(y_test, y_pred_test))"
      ],
      "metadata": {
        "id": "SgKrrVIyent3",
        "colab": {
          "base_uri": "https://localhost:8080/"
        },
        "outputId": "4e64c61c-b7b4-417d-8b04-35e11b4669f2"
      },
      "execution_count": 25,
      "outputs": [
        {
          "output_type": "stream",
          "name": "stdout",
          "text": [
            "              precision    recall  f1-score   support\n",
            "\n",
            "           0       0.26      0.14      0.18      1467\n",
            "           1       0.12      0.10      0.11       167\n",
            "           2       0.28      0.14      0.19      1566\n",
            "           3       0.40      0.63      0.49      2714\n",
            "           4       0.24      0.17      0.20      1793\n",
            "           5       0.31      0.35      0.33      1190\n",
            "           6       0.28      0.31      0.29      1870\n",
            "\n",
            "    accuracy                           0.32     10767\n",
            "   macro avg       0.27      0.26      0.26     10767\n",
            "weighted avg       0.30      0.32      0.30     10767\n",
            "\n"
          ]
        }
      ]
    }
  ]
}